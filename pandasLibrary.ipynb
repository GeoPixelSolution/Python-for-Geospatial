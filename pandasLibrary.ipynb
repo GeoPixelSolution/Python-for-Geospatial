{
 "cells": [
  {
   "cell_type": "markdown",
   "id": "4946693c-486a-4130-a716-7d2a65b3aed5",
   "metadata": {},
   "source": [
    "#install pandas"
   ]
  },
  {
   "cell_type": "code",
   "execution_count": 1,
   "id": "df5e29e3-eb0e-4e33-adc4-9f95cc32d764",
   "metadata": {
    "tags": []
   },
   "outputs": [
    {
     "name": "stdout",
     "output_type": "stream",
     "text": [
      "Defaulting to user installation because normal site-packages is not writeable\n",
      "Requirement already satisfied: pandas in c:\\programdata\\anaconda3\\lib\\site-packages (2.0.3)\n",
      "Requirement already satisfied: python-dateutil>=2.8.2 in c:\\programdata\\anaconda3\\lib\\site-packages (from pandas) (2.8.2)\n",
      "Requirement already satisfied: pytz>=2020.1 in c:\\programdata\\anaconda3\\lib\\site-packages (from pandas) (2023.3.post1)\n",
      "Requirement already satisfied: tzdata>=2022.1 in c:\\programdata\\anaconda3\\lib\\site-packages (from pandas) (2023.3)\n",
      "Requirement already satisfied: numpy>=1.21.0 in c:\\programdata\\anaconda3\\lib\\site-packages (from pandas) (1.24.3)\n",
      "Requirement already satisfied: six>=1.5 in c:\\programdata\\anaconda3\\lib\\site-packages (from python-dateutil>=2.8.2->pandas) (1.16.0)\n"
     ]
    }
   ],
   "source": [
    "!pip install pandas"
   ]
  },
  {
   "cell_type": "code",
   "execution_count": 2,
   "id": "9cb71292-7e98-47d8-b321-a2ad2954ae97",
   "metadata": {
    "tags": []
   },
   "outputs": [
    {
     "name": "stdout",
     "output_type": "stream",
     "text": [
      "Name: pandas\n",
      "Version: 2.0.3\n",
      "Summary: Powerful data structures for data analysis, time series, and statistics\n",
      "Home-page: \n",
      "Author: \n",
      "Author-email: The Pandas Development Team <pandas-dev@python.org>\n",
      "License: BSD 3-Clause License\n",
      "\n",
      "Copyright (c) 2008-2011, AQR Capital Management, LLC, Lambda Foundry, Inc. and PyData Development Team\n",
      "All rights reserved.\n",
      "\n",
      "Copyright (c) 2011-2023, Open source contributors.\n",
      "\n",
      "Redistribution and use in source and binary forms, with or without\n",
      "modification, are permitted provided that the following conditions are met:\n",
      "\n",
      "* Redistributions of source code must retain the above copyright notice, this\n",
      "  list of conditions and the following disclaimer.\n",
      "\n",
      "* Redistributions in binary form must reproduce the above copyright notice,\n",
      "  this list of conditions and the following disclaimer in the documentation\n",
      "  and/or other materials provided with the distribution.\n",
      "\n",
      "* Neither the name of the copyright holder nor the names of its\n",
      "  contributors may be used to endorse or promote products derived from\n",
      "  this software without specific prior written permission.\n",
      "\n",
      "THIS SOFTWARE IS PROVIDED BY THE COPYRIGHT HOLDERS AND CONTRIBUTORS \"AS IS\"\n",
      "AND ANY EXPRESS OR IMPLIED WARRANTIES, INCLUDING, BUT NOT LIMITED TO, THE\n",
      "IMPLIED WARRANTIES OF MERCHANTABILITY AND FITNESS FOR A PARTICULAR PURPOSE ARE\n",
      "DISCLAIMED. IN NO EVENT SHALL THE COPYRIGHT HOLDER OR CONTRIBUTORS BE LIABLE\n",
      "FOR ANY DIRECT, INDIRECT, INCIDENTAL, SPECIAL, EXEMPLARY, OR CONSEQUENTIAL\n",
      "DAMAGES (INCLUDING, BUT NOT LIMITED TO, PROCUREMENT OF SUBSTITUTE GOODS OR\n",
      "SERVICES; LOSS OF USE, DATA, OR PROFITS; OR BUSINESS INTERRUPTION) HOWEVER\n",
      "CAUSED AND ON ANY THEORY OF LIABILITY, WHETHER IN CONTRACT, STRICT LIABILITY,\n",
      "OR TORT (INCLUDING NEGLIGENCE OR OTHERWISE) ARISING IN ANY WAY OUT OF THE USE\n",
      "OF THIS SOFTWARE, EVEN IF ADVISED OF THE POSSIBILITY OF SUCH DAMAGE.\n",
      "\n",
      "Location: C:\\ProgramData\\anaconda3\\Lib\\site-packages\n",
      "Requires: numpy, numpy, python-dateutil, pytz, tzdata\n",
      "Required-by: bokeh, datasets, datashader, holoviews, hvplot, panel, seaborn, statsmodels, xarray\n"
     ]
    }
   ],
   "source": [
    "!pip show pandas"
   ]
  },
  {
   "cell_type": "markdown",
   "id": "0ccd71c4-aebc-41a4-8a6f-447c3430f9a7",
   "metadata": {},
   "source": [
    "#import pandas and create a dataframe"
   ]
  },
  {
   "cell_type": "code",
   "execution_count": 3,
   "id": "7d6e58c8-8940-4e02-ae4b-ef2210eb0977",
   "metadata": {
    "tags": []
   },
   "outputs": [],
   "source": [
    "import pandas as pd\n",
    "import numpy as np\n",
    "from pandas import DataFrame , read_csv"
   ]
  },
  {
   "cell_type": "code",
   "execution_count": 4,
   "id": "a4d5b66d-b69c-4089-8d33-84f7452bed22",
   "metadata": {
    "tags": []
   },
   "outputs": [
    {
     "data": {
      "text/html": [
       "<div>\n",
       "<style scoped>\n",
       "    .dataframe tbody tr th:only-of-type {\n",
       "        vertical-align: middle;\n",
       "    }\n",
       "\n",
       "    .dataframe tbody tr th {\n",
       "        vertical-align: top;\n",
       "    }\n",
       "\n",
       "    .dataframe thead th {\n",
       "        text-align: right;\n",
       "    }\n",
       "</style>\n",
       "<table border=\"1\" class=\"dataframe\">\n",
       "  <thead>\n",
       "    <tr style=\"text-align: right;\">\n",
       "      <th></th>\n",
       "      <th>one</th>\n",
       "      <th>two</th>\n",
       "    </tr>\n",
       "  </thead>\n",
       "  <tbody>\n",
       "    <tr>\n",
       "      <th>a</th>\n",
       "      <td>1.0</td>\n",
       "      <td>1.0</td>\n",
       "    </tr>\n",
       "    <tr>\n",
       "      <th>b</th>\n",
       "      <td>2.0</td>\n",
       "      <td>2.0</td>\n",
       "    </tr>\n",
       "    <tr>\n",
       "      <th>c</th>\n",
       "      <td>3.0</td>\n",
       "      <td>3.0</td>\n",
       "    </tr>\n",
       "    <tr>\n",
       "      <th>d</th>\n",
       "      <td>4.0</td>\n",
       "      <td>4.0</td>\n",
       "    </tr>\n",
       "    <tr>\n",
       "      <th>e</th>\n",
       "      <td>5.0</td>\n",
       "      <td>5.0</td>\n",
       "    </tr>\n",
       "  </tbody>\n",
       "</table>\n",
       "</div>"
      ],
      "text/plain": [
       "   one  two\n",
       "a  1.0  1.0\n",
       "b  2.0  2.0\n",
       "c  3.0  3.0\n",
       "d  4.0  4.0\n",
       "e  5.0  5.0"
      ]
     },
     "execution_count": 4,
     "metadata": {},
     "output_type": "execute_result"
    }
   ],
   "source": [
    "d = {'one' : pd. Series ([1., 2. , 3. , 4. , 5.0] , index = [ 'a' , 'b' , 'c' , 'd' , 'e']) , \n",
    "     'two' : pd.Series ([1. , 2. , 3. , 4. , 5.0 ] , index = [ 'a' , 'b' , 'c' , 'd' , 'e' ])}\n",
    "df = pd.DataFrame(d)\n",
    "df\n"
   ]
  },
  {
   "cell_type": "code",
   "execution_count": 5,
   "id": "44a6ee04-6df7-4c4d-ae2b-d34ec9aa36a0",
   "metadata": {
    "tags": []
   },
   "outputs": [
    {
     "data": {
      "text/plain": [
       "(5, 2)"
      ]
     },
     "execution_count": 5,
     "metadata": {},
     "output_type": "execute_result"
    }
   ],
   "source": [
    "df.shape"
   ]
  },
  {
   "cell_type": "code",
   "execution_count": 6,
   "id": "8ef84581-8297-4599-9266-30bab0c1a4a7",
   "metadata": {
    "tags": []
   },
   "outputs": [
    {
     "data": {
      "text/plain": [
       "one    float64\n",
       "two    float64\n",
       "dtype: object"
      ]
     },
     "execution_count": 6,
     "metadata": {},
     "output_type": "execute_result"
    }
   ],
   "source": [
    "df.dtypes"
   ]
  },
  {
   "cell_type": "markdown",
   "id": "bf45547c-e69c-4e19-960e-18bd0c19f38e",
   "metadata": {
    "tags": []
   },
   "source": [
    "# date range"
   ]
  },
  {
   "cell_type": "code",
   "execution_count": 7,
   "id": "e3c2594d-84bc-48b7-b9ca-5aae3af9133e",
   "metadata": {
    "tags": []
   },
   "outputs": [
    {
     "data": {
      "text/plain": [
       "DatetimeIndex(['2023-01-01', '2023-01-02', '2023-01-03', '2023-01-04',\n",
       "               '2023-01-05', '2023-01-06', '2023-01-07', '2023-01-08',\n",
       "               '2023-01-09', '2023-01-10'],\n",
       "              dtype='datetime64[ns]', freq='D')"
      ]
     },
     "execution_count": 7,
     "metadata": {},
     "output_type": "execute_result"
    }
   ],
   "source": [
    "dates = pd.date_range('20230101' , periods = 10)\n",
    "dates   # for print dates"
   ]
  },
  {
   "cell_type": "code",
   "execution_count": 8,
   "id": "9061684f-4782-49de-9071-91dca3546ebb",
   "metadata": {
    "tags": []
   },
   "outputs": [
    {
     "data": {
      "text/html": [
       "<div>\n",
       "<style scoped>\n",
       "    .dataframe tbody tr th:only-of-type {\n",
       "        vertical-align: middle;\n",
       "    }\n",
       "\n",
       "    .dataframe tbody tr th {\n",
       "        vertical-align: top;\n",
       "    }\n",
       "\n",
       "    .dataframe thead th {\n",
       "        text-align: right;\n",
       "    }\n",
       "</style>\n",
       "<table border=\"1\" class=\"dataframe\">\n",
       "  <thead>\n",
       "    <tr style=\"text-align: right;\">\n",
       "      <th></th>\n",
       "      <th>A</th>\n",
       "      <th>B</th>\n",
       "      <th>C</th>\n",
       "      <th>D</th>\n",
       "    </tr>\n",
       "  </thead>\n",
       "  <tbody>\n",
       "    <tr>\n",
       "      <th>2023-01-01</th>\n",
       "      <td>0.770120</td>\n",
       "      <td>0.211897</td>\n",
       "      <td>0.250512</td>\n",
       "      <td>0.266445</td>\n",
       "    </tr>\n",
       "    <tr>\n",
       "      <th>2023-01-02</th>\n",
       "      <td>0.344753</td>\n",
       "      <td>0.973380</td>\n",
       "      <td>0.942612</td>\n",
       "      <td>0.873553</td>\n",
       "    </tr>\n",
       "    <tr>\n",
       "      <th>2023-01-03</th>\n",
       "      <td>0.118632</td>\n",
       "      <td>0.026097</td>\n",
       "      <td>0.137920</td>\n",
       "      <td>0.391539</td>\n",
       "    </tr>\n",
       "    <tr>\n",
       "      <th>2023-01-04</th>\n",
       "      <td>0.949120</td>\n",
       "      <td>0.259985</td>\n",
       "      <td>0.006242</td>\n",
       "      <td>0.264905</td>\n",
       "    </tr>\n",
       "    <tr>\n",
       "      <th>2023-01-05</th>\n",
       "      <td>0.542996</td>\n",
       "      <td>0.135698</td>\n",
       "      <td>0.695190</td>\n",
       "      <td>0.046783</td>\n",
       "    </tr>\n",
       "    <tr>\n",
       "      <th>2023-01-06</th>\n",
       "      <td>0.873307</td>\n",
       "      <td>0.870390</td>\n",
       "      <td>0.068270</td>\n",
       "      <td>0.883779</td>\n",
       "    </tr>\n",
       "    <tr>\n",
       "      <th>2023-01-07</th>\n",
       "      <td>0.846447</td>\n",
       "      <td>0.528451</td>\n",
       "      <td>0.456746</td>\n",
       "      <td>0.557077</td>\n",
       "    </tr>\n",
       "    <tr>\n",
       "      <th>2023-01-08</th>\n",
       "      <td>0.301535</td>\n",
       "      <td>0.774161</td>\n",
       "      <td>0.755175</td>\n",
       "      <td>0.840327</td>\n",
       "    </tr>\n",
       "    <tr>\n",
       "      <th>2023-01-09</th>\n",
       "      <td>0.013997</td>\n",
       "      <td>0.879242</td>\n",
       "      <td>0.944449</td>\n",
       "      <td>0.309454</td>\n",
       "    </tr>\n",
       "    <tr>\n",
       "      <th>2023-01-10</th>\n",
       "      <td>0.023949</td>\n",
       "      <td>0.856569</td>\n",
       "      <td>0.760228</td>\n",
       "      <td>0.470730</td>\n",
       "    </tr>\n",
       "  </tbody>\n",
       "</table>\n",
       "</div>"
      ],
      "text/plain": [
       "                   A         B         C         D\n",
       "2023-01-01  0.770120  0.211897  0.250512  0.266445\n",
       "2023-01-02  0.344753  0.973380  0.942612  0.873553\n",
       "2023-01-03  0.118632  0.026097  0.137920  0.391539\n",
       "2023-01-04  0.949120  0.259985  0.006242  0.264905\n",
       "2023-01-05  0.542996  0.135698  0.695190  0.046783\n",
       "2023-01-06  0.873307  0.870390  0.068270  0.883779\n",
       "2023-01-07  0.846447  0.528451  0.456746  0.557077\n",
       "2023-01-08  0.301535  0.774161  0.755175  0.840327\n",
       "2023-01-09  0.013997  0.879242  0.944449  0.309454\n",
       "2023-01-10  0.023949  0.856569  0.760228  0.470730"
      ]
     },
     "execution_count": 8,
     "metadata": {},
     "output_type": "execute_result"
    }
   ],
   "source": [
    "df2 = pd.DataFrame(np.random.rand(10,4), index=dates, columns=list('ABCD'))\n",
    "df2.head(10) #for showing first 10 row. head(n) here n = no. of rows"
   ]
  },
  {
   "cell_type": "code",
   "execution_count": 9,
   "id": "8b496c84-2d15-4c97-85d8-12a2b052b94f",
   "metadata": {
    "tags": []
   },
   "outputs": [
    {
     "data": {
      "text/plain": [
       "A    float64\n",
       "B    float64\n",
       "C    float64\n",
       "D    float64\n",
       "dtype: object"
      ]
     },
     "execution_count": 9,
     "metadata": {},
     "output_type": "execute_result"
    }
   ],
   "source": [
    "df2.dtypes"
   ]
  },
  {
   "cell_type": "code",
   "execution_count": 10,
   "id": "771f6b7a-fb65-446c-85a1-4eb63dbd44bd",
   "metadata": {
    "tags": []
   },
   "outputs": [
    {
     "data": {
      "text/plain": [
       "(10, 4)"
      ]
     },
     "execution_count": 10,
     "metadata": {},
     "output_type": "execute_result"
    }
   ],
   "source": [
    "df2.shape"
   ]
  },
  {
   "cell_type": "code",
   "execution_count": 11,
   "id": "68ea36a7-6b23-41e2-a4d9-c225ba36e41b",
   "metadata": {
    "tags": []
   },
   "outputs": [
    {
     "data": {
      "text/plain": [
       "[('manas', 2001),\n",
       " ('vivek', 2002),\n",
       " ('mukund', 2003),\n",
       " ('ankit', 2004),\n",
       " ('jenny', 2005)]"
      ]
     },
     "execution_count": 11,
     "metadata": {},
     "output_type": "execute_result"
    }
   ],
   "source": [
    "names = ['manas' , 'vivek' , 'mukund' , 'ankit' , 'jenny']\n",
    "births = [ 2001 , 2002 , 2003 , 2004 , 2005 ]\n",
    "\n",
    "# to merge these two lists together we will use the ZIP function.\n",
    "\n",
    "NameDataSet = list(zip(names , births))\n",
    "NameDataSet          ## Printing the result also use print(NameDataSet)"
   ]
  },
  {
   "cell_type": "code",
   "execution_count": 12,
   "id": "7bdd3724-9d56-4cf6-88d9-a35762ba0957",
   "metadata": {
    "tags": []
   },
   "outputs": [],
   "source": [
    "df = pd.DataFrame(data = NameDataSet, columns = ['Names' , 'Births'])\n",
    "\n",
    "#df.to_csv ('Births1880.csv' , index = False , header = False\n",
    "#import os  cwd = os.getcwd() print(\"Current working directory:\", cwd)\n",
    "\n",
    "df.to_csv('M:\\pandas.csv', index=False, header=False)\n"
   ]
  },
  {
   "cell_type": "code",
   "execution_count": 13,
   "id": "5faa0813-6f96-4b61-8032-91abb26c64af",
   "metadata": {
    "tags": []
   },
   "outputs": [
    {
     "data": {
      "text/html": [
       "<div>\n",
       "<style scoped>\n",
       "    .dataframe tbody tr th:only-of-type {\n",
       "        vertical-align: middle;\n",
       "    }\n",
       "\n",
       "    .dataframe tbody tr th {\n",
       "        vertical-align: top;\n",
       "    }\n",
       "\n",
       "    .dataframe thead th {\n",
       "        text-align: right;\n",
       "    }\n",
       "</style>\n",
       "<table border=\"1\" class=\"dataframe\">\n",
       "  <thead>\n",
       "    <tr style=\"text-align: right;\">\n",
       "      <th></th>\n",
       "      <th>names</th>\n",
       "      <th>births</th>\n",
       "    </tr>\n",
       "  </thead>\n",
       "  <tbody>\n",
       "    <tr>\n",
       "      <th>0</th>\n",
       "      <td>manas</td>\n",
       "      <td>2001</td>\n",
       "    </tr>\n",
       "    <tr>\n",
       "      <th>1</th>\n",
       "      <td>vivek</td>\n",
       "      <td>2002</td>\n",
       "    </tr>\n",
       "    <tr>\n",
       "      <th>2</th>\n",
       "      <td>mukund</td>\n",
       "      <td>2003</td>\n",
       "    </tr>\n",
       "    <tr>\n",
       "      <th>3</th>\n",
       "      <td>ankit</td>\n",
       "      <td>2004</td>\n",
       "    </tr>\n",
       "    <tr>\n",
       "      <th>4</th>\n",
       "      <td>jenny</td>\n",
       "      <td>2005</td>\n",
       "    </tr>\n",
       "  </tbody>\n",
       "</table>\n",
       "</div>"
      ],
      "text/plain": [
       "    names  births\n",
       "0   manas    2001\n",
       "1   vivek    2002\n",
       "2  mukund    2003\n",
       "3   ankit    2004\n",
       "4   jenny    2005"
      ]
     },
     "execution_count": 13,
     "metadata": {},
     "output_type": "execute_result"
    }
   ],
   "source": [
    "df = pd.read_csv('M:\\pandas.csv', names = ['names', 'births'])\n",
    "df\n"
   ]
  },
  {
   "cell_type": "code",
   "execution_count": 14,
   "id": "a827bc73-461c-4f29-b0ef-79b43bca61a4",
   "metadata": {
    "tags": []
   },
   "outputs": [
    {
     "data": {
      "text/plain": [
       "names     object\n",
       "births     int64\n",
       "dtype: object"
      ]
     },
     "execution_count": 14,
     "metadata": {},
     "output_type": "execute_result"
    }
   ],
   "source": [
    "df.dtypes"
   ]
  },
  {
   "cell_type": "code",
   "execution_count": 15,
   "id": "bcaead95-ffa2-4d60-9252-1e640f16e280",
   "metadata": {
    "tags": []
   },
   "outputs": [
    {
     "data": {
      "text/plain": [
       "dtype('O')"
      ]
     },
     "execution_count": 15,
     "metadata": {},
     "output_type": "execute_result"
    }
   ],
   "source": [
    "df.names.dtypes"
   ]
  },
  {
   "cell_type": "code",
   "execution_count": 16,
   "id": "ca1ea664-43e5-4384-83e0-f65d66bb9af0",
   "metadata": {
    "tags": []
   },
   "outputs": [
    {
     "data": {
      "text/plain": [
       "dtype('int64')"
      ]
     },
     "execution_count": 16,
     "metadata": {},
     "output_type": "execute_result"
    }
   ],
   "source": [
    "df.births.dtypes"
   ]
  },
  {
   "cell_type": "code",
   "execution_count": 17,
   "id": "c8f89953-64ef-4298-8313-bb4c04b35a44",
   "metadata": {
    "tags": []
   },
   "outputs": [
    {
     "data": {
      "text/html": [
       "<div>\n",
       "<style scoped>\n",
       "    .dataframe tbody tr th:only-of-type {\n",
       "        vertical-align: middle;\n",
       "    }\n",
       "\n",
       "    .dataframe tbody tr th {\n",
       "        vertical-align: top;\n",
       "    }\n",
       "\n",
       "    .dataframe thead th {\n",
       "        text-align: right;\n",
       "    }\n",
       "</style>\n",
       "<table border=\"1\" class=\"dataframe\">\n",
       "  <thead>\n",
       "    <tr style=\"text-align: right;\">\n",
       "      <th></th>\n",
       "      <th>names</th>\n",
       "      <th>births</th>\n",
       "    </tr>\n",
       "  </thead>\n",
       "  <tbody>\n",
       "    <tr>\n",
       "      <th>0</th>\n",
       "      <td>manas</td>\n",
       "      <td>2001</td>\n",
       "    </tr>\n",
       "    <tr>\n",
       "      <th>1</th>\n",
       "      <td>vivek</td>\n",
       "      <td>2002</td>\n",
       "    </tr>\n",
       "    <tr>\n",
       "      <th>2</th>\n",
       "      <td>mukund</td>\n",
       "      <td>2003</td>\n",
       "    </tr>\n",
       "    <tr>\n",
       "      <th>3</th>\n",
       "      <td>ankit</td>\n",
       "      <td>2004</td>\n",
       "    </tr>\n",
       "    <tr>\n",
       "      <th>4</th>\n",
       "      <td>jenny</td>\n",
       "      <td>2005</td>\n",
       "    </tr>\n",
       "  </tbody>\n",
       "</table>\n",
       "</div>"
      ],
      "text/plain": [
       "    names  births\n",
       "0   manas    2001\n",
       "1   vivek    2002\n",
       "2  mukund    2003\n",
       "3   ankit    2004\n",
       "4   jenny    2005"
      ]
     },
     "execution_count": 17,
     "metadata": {},
     "output_type": "execute_result"
    }
   ],
   "source": [
    "df.head()    #for complete data show except df"
   ]
  },
  {
   "cell_type": "code",
   "execution_count": 18,
   "id": "ebce7660-f864-4bb3-a45f-484b385a994e",
   "metadata": {
    "tags": []
   },
   "outputs": [
    {
     "data": {
      "text/html": [
       "<div>\n",
       "<style scoped>\n",
       "    .dataframe tbody tr th:only-of-type {\n",
       "        vertical-align: middle;\n",
       "    }\n",
       "\n",
       "    .dataframe tbody tr th {\n",
       "        vertical-align: top;\n",
       "    }\n",
       "\n",
       "    .dataframe thead th {\n",
       "        text-align: right;\n",
       "    }\n",
       "</style>\n",
       "<table border=\"1\" class=\"dataframe\">\n",
       "  <thead>\n",
       "    <tr style=\"text-align: right;\">\n",
       "      <th></th>\n",
       "      <th>names</th>\n",
       "      <th>births</th>\n",
       "    </tr>\n",
       "  </thead>\n",
       "  <tbody>\n",
       "    <tr>\n",
       "      <th>0</th>\n",
       "      <td>manas</td>\n",
       "      <td>2001</td>\n",
       "    </tr>\n",
       "    <tr>\n",
       "      <th>1</th>\n",
       "      <td>vivek</td>\n",
       "      <td>2002</td>\n",
       "    </tr>\n",
       "    <tr>\n",
       "      <th>2</th>\n",
       "      <td>mukund</td>\n",
       "      <td>2003</td>\n",
       "    </tr>\n",
       "    <tr>\n",
       "      <th>3</th>\n",
       "      <td>ankit</td>\n",
       "      <td>2004</td>\n",
       "    </tr>\n",
       "  </tbody>\n",
       "</table>\n",
       "</div>"
      ],
      "text/plain": [
       "    names  births\n",
       "0   manas    2001\n",
       "1   vivek    2002\n",
       "2  mukund    2003\n",
       "3   ankit    2004"
      ]
     },
     "execution_count": 18,
     "metadata": {},
     "output_type": "execute_result"
    }
   ],
   "source": [
    "df.head(4)"
   ]
  },
  {
   "cell_type": "code",
   "execution_count": 19,
   "id": "94b6538d-99af-4b58-a242-920a55db2784",
   "metadata": {
    "tags": []
   },
   "outputs": [
    {
     "data": {
      "text/html": [
       "<div>\n",
       "<style scoped>\n",
       "    .dataframe tbody tr th:only-of-type {\n",
       "        vertical-align: middle;\n",
       "    }\n",
       "\n",
       "    .dataframe tbody tr th {\n",
       "        vertical-align: top;\n",
       "    }\n",
       "\n",
       "    .dataframe thead th {\n",
       "        text-align: right;\n",
       "    }\n",
       "</style>\n",
       "<table border=\"1\" class=\"dataframe\">\n",
       "  <thead>\n",
       "    <tr style=\"text-align: right;\">\n",
       "      <th></th>\n",
       "      <th>names</th>\n",
       "      <th>births</th>\n",
       "    </tr>\n",
       "  </thead>\n",
       "  <tbody>\n",
       "    <tr>\n",
       "      <th>0</th>\n",
       "      <td>manas</td>\n",
       "      <td>2001</td>\n",
       "    </tr>\n",
       "    <tr>\n",
       "      <th>1</th>\n",
       "      <td>vivek</td>\n",
       "      <td>2002</td>\n",
       "    </tr>\n",
       "    <tr>\n",
       "      <th>2</th>\n",
       "      <td>mukund</td>\n",
       "      <td>2003</td>\n",
       "    </tr>\n",
       "  </tbody>\n",
       "</table>\n",
       "</div>"
      ],
      "text/plain": [
       "    names  births\n",
       "0   manas    2001\n",
       "1   vivek    2002\n",
       "2  mukund    2003"
      ]
     },
     "execution_count": 19,
     "metadata": {},
     "output_type": "execute_result"
    }
   ],
   "source": [
    "df.head(-2)"
   ]
  },
  {
   "cell_type": "code",
   "execution_count": 20,
   "id": "f1ee054d-ab49-4fc9-a9c2-e9a1b1fd8a9c",
   "metadata": {
    "tags": []
   },
   "outputs": [
    {
     "data": {
      "text/html": [
       "<div>\n",
       "<style scoped>\n",
       "    .dataframe tbody tr th:only-of-type {\n",
       "        vertical-align: middle;\n",
       "    }\n",
       "\n",
       "    .dataframe tbody tr th {\n",
       "        vertical-align: top;\n",
       "    }\n",
       "\n",
       "    .dataframe thead th {\n",
       "        text-align: right;\n",
       "    }\n",
       "</style>\n",
       "<table border=\"1\" class=\"dataframe\">\n",
       "  <thead>\n",
       "    <tr style=\"text-align: right;\">\n",
       "      <th></th>\n",
       "      <th>names</th>\n",
       "      <th>births</th>\n",
       "    </tr>\n",
       "  </thead>\n",
       "  <tbody>\n",
       "    <tr>\n",
       "      <th>2</th>\n",
       "      <td>mukund</td>\n",
       "      <td>2003</td>\n",
       "    </tr>\n",
       "    <tr>\n",
       "      <th>3</th>\n",
       "      <td>ankit</td>\n",
       "      <td>2004</td>\n",
       "    </tr>\n",
       "    <tr>\n",
       "      <th>4</th>\n",
       "      <td>jenny</td>\n",
       "      <td>2005</td>\n",
       "    </tr>\n",
       "  </tbody>\n",
       "</table>\n",
       "</div>"
      ],
      "text/plain": [
       "    names  births\n",
       "2  mukund    2003\n",
       "3   ankit    2004\n",
       "4   jenny    2005"
      ]
     },
     "execution_count": 20,
     "metadata": {},
     "output_type": "execute_result"
    }
   ],
   "source": [
    "df.tail(3)"
   ]
  },
  {
   "cell_type": "code",
   "execution_count": 21,
   "id": "dc88fc05-f430-4250-9ed3-8fa7173d2347",
   "metadata": {
    "tags": []
   },
   "outputs": [
    {
     "data": {
      "text/html": [
       "<div>\n",
       "<style scoped>\n",
       "    .dataframe tbody tr th:only-of-type {\n",
       "        vertical-align: middle;\n",
       "    }\n",
       "\n",
       "    .dataframe tbody tr th {\n",
       "        vertical-align: top;\n",
       "    }\n",
       "\n",
       "    .dataframe thead th {\n",
       "        text-align: right;\n",
       "    }\n",
       "</style>\n",
       "<table border=\"1\" class=\"dataframe\">\n",
       "  <thead>\n",
       "    <tr style=\"text-align: right;\">\n",
       "      <th></th>\n",
       "      <th>names</th>\n",
       "      <th>births</th>\n",
       "    </tr>\n",
       "  </thead>\n",
       "  <tbody>\n",
       "    <tr>\n",
       "      <th>3</th>\n",
       "      <td>ankit</td>\n",
       "      <td>2004</td>\n",
       "    </tr>\n",
       "    <tr>\n",
       "      <th>4</th>\n",
       "      <td>jenny</td>\n",
       "      <td>2005</td>\n",
       "    </tr>\n",
       "  </tbody>\n",
       "</table>\n",
       "</div>"
      ],
      "text/plain": [
       "   names  births\n",
       "3  ankit    2004\n",
       "4  jenny    2005"
      ]
     },
     "execution_count": 21,
     "metadata": {},
     "output_type": "execute_result"
    }
   ],
   "source": [
    "df.tail(-3)"
   ]
  },
  {
   "cell_type": "code",
   "execution_count": 22,
   "id": "f79a1cc5-dc29-4cad-81ea-afeb20c6f929",
   "metadata": {
    "tags": []
   },
   "outputs": [
    {
     "data": {
      "text/plain": [
       "Index(['names', 'births'], dtype='object')"
      ]
     },
     "execution_count": 22,
     "metadata": {},
     "output_type": "execute_result"
    }
   ],
   "source": [
    "df.columns"
   ]
  },
  {
   "cell_type": "code",
   "execution_count": 23,
   "id": "932d51ad-8885-416f-abd5-05aea3583e0a",
   "metadata": {
    "tags": []
   },
   "outputs": [
    {
     "data": {
      "text/plain": [
       "array([['manas', 2001],\n",
       "       ['vivek', 2002],\n",
       "       ['mukund', 2003],\n",
       "       ['ankit', 2004],\n",
       "       ['jenny', 2005]], dtype=object)"
      ]
     },
     "execution_count": 23,
     "metadata": {},
     "output_type": "execute_result"
    }
   ],
   "source": [
    "df.values"
   ]
  },
  {
   "cell_type": "code",
   "execution_count": 24,
   "id": "fbeeff28-9022-4a5d-b782-0501ba1f48c6",
   "metadata": {
    "tags": []
   },
   "outputs": [
    {
     "data": {
      "text/plain": [
       "RangeIndex(start=0, stop=5, step=1)"
      ]
     },
     "execution_count": 24,
     "metadata": {},
     "output_type": "execute_result"
    }
   ],
   "source": [
    "df.index"
   ]
  },
  {
   "cell_type": "code",
   "execution_count": 25,
   "id": "8b8977e0-2682-4151-a9cd-9ea587e6553f",
   "metadata": {
    "tags": []
   },
   "outputs": [
    {
     "data": {
      "image/png": "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",
      "text/plain": [
       "<Figure size 640x480 with 1 Axes>"
      ]
     },
     "metadata": {},
     "output_type": "display_data"
    }
   ],
   "source": [
    "df_plot = df['births'].plot()\n"
   ]
  },
  {
   "cell_type": "code",
   "execution_count": 26,
   "id": "f084bf5c-81c2-4686-86e7-4e23863e143d",
   "metadata": {
    "tags": []
   },
   "outputs": [
    {
     "data": {
      "text/plain": [
       "2005"
      ]
     },
     "execution_count": 26,
     "metadata": {},
     "output_type": "execute_result"
    }
   ],
   "source": [
    "maxValue = df['births'].max()\n",
    "maxValue"
   ]
  },
  {
   "cell_type": "code",
   "execution_count": 27,
   "id": "d41450e0-c289-4c80-af3e-8264106325ef",
   "metadata": {
    "tags": []
   },
   "outputs": [
    {
     "data": {
      "text/plain": [
       "2001"
      ]
     },
     "execution_count": 27,
     "metadata": {},
     "output_type": "execute_result"
    }
   ],
   "source": [
    "minValue = df['births'].min()\n",
    "minValue"
   ]
  },
  {
   "cell_type": "markdown",
   "id": "556c9ed3-540a-4cf2-a5eb-9c435f1fce3f",
   "metadata": {},
   "source": [
    "#Describe the data"
   ]
  },
  {
   "cell_type": "code",
   "execution_count": 28,
   "id": "b4431ce7-967d-4509-b6be-0d7f38db238b",
   "metadata": {
    "tags": []
   },
   "outputs": [
    {
     "data": {
      "text/plain": [
       "<bound method Series.unique of 0     manas\n",
       "1     vivek\n",
       "2    mukund\n",
       "3     ankit\n",
       "4     jenny\n",
       "Name: names, dtype: object>"
      ]
     },
     "execution_count": 28,
     "metadata": {},
     "output_type": "execute_result"
    }
   ],
   "source": [
    "df['names'].unique   #if any reapeted names found then it will show the names"
   ]
  },
  {
   "cell_type": "code",
   "execution_count": 29,
   "id": "3f21c52b-bfa8-4d0a-9a11-864afcf4c750",
   "metadata": {
    "tags": []
   },
   "outputs": [
    {
     "data": {
      "text/plain": [
       "count         5\n",
       "unique        5\n",
       "top       manas\n",
       "freq          1\n",
       "Name: names, dtype: object"
      ]
     },
     "execution_count": 29,
     "metadata": {},
     "output_type": "execute_result"
    }
   ],
   "source": [
    "df['names'].describe()  #complete info"
   ]
  },
  {
   "cell_type": "code",
   "execution_count": 30,
   "id": "11cc9623-f03c-4741-97e5-c9dc55ffbe1a",
   "metadata": {
    "tags": []
   },
   "outputs": [
    {
     "data": {
      "text/html": [
       "<div>\n",
       "<style scoped>\n",
       "    .dataframe tbody tr th:only-of-type {\n",
       "        vertical-align: middle;\n",
       "    }\n",
       "\n",
       "    .dataframe tbody tr th {\n",
       "        vertical-align: top;\n",
       "    }\n",
       "\n",
       "    .dataframe thead th {\n",
       "        text-align: right;\n",
       "    }\n",
       "</style>\n",
       "<table border=\"1\" class=\"dataframe\">\n",
       "  <thead>\n",
       "    <tr style=\"text-align: right;\">\n",
       "      <th></th>\n",
       "      <th>name</th>\n",
       "      <th>score</th>\n",
       "      <th>sex</th>\n",
       "    </tr>\n",
       "  </thead>\n",
       "  <tbody>\n",
       "    <tr>\n",
       "      <th>0</th>\n",
       "      <td>Tim</td>\n",
       "      <td>80</td>\n",
       "      <td>M</td>\n",
       "    </tr>\n",
       "    <tr>\n",
       "      <th>1</th>\n",
       "      <td>Tom</td>\n",
       "      <td>85</td>\n",
       "      <td>M</td>\n",
       "    </tr>\n",
       "    <tr>\n",
       "      <th>2</th>\n",
       "      <td>Kim</td>\n",
       "      <td>70</td>\n",
       "      <td>F</td>\n",
       "    </tr>\n",
       "    <tr>\n",
       "      <th>3</th>\n",
       "      <td>Sam</td>\n",
       "      <td>90</td>\n",
       "      <td>M</td>\n",
       "    </tr>\n",
       "    <tr>\n",
       "      <th>4</th>\n",
       "      <td>Efe</td>\n",
       "      <td>75</td>\n",
       "      <td>M</td>\n",
       "    </tr>\n",
       "  </tbody>\n",
       "</table>\n",
       "</div>"
      ],
      "text/plain": [
       "  name  score sex\n",
       "0  Tim     80   M\n",
       "1  Tom     85   M\n",
       "2  Kim     70   F\n",
       "3  Sam     90   M\n",
       "4  Efe     75   M"
      ]
     },
     "execution_count": 30,
     "metadata": {},
     "output_type": "execute_result"
    }
   ],
   "source": [
    "df2 = pd.read_table(\"M\\pandas.txt\")\n",
    "df2"
   ]
  },
  {
   "cell_type": "code",
   "execution_count": 31,
   "id": "fa13e1f5-e1cf-4c22-b057-879d5c061c8f",
   "metadata": {
    "tags": []
   },
   "outputs": [
    {
     "data": {
      "text/html": [
       "<div>\n",
       "<style scoped>\n",
       "    .dataframe tbody tr th:only-of-type {\n",
       "        vertical-align: middle;\n",
       "    }\n",
       "\n",
       "    .dataframe tbody tr th {\n",
       "        vertical-align: top;\n",
       "    }\n",
       "\n",
       "    .dataframe thead th {\n",
       "        text-align: right;\n",
       "    }\n",
       "</style>\n",
       "<table border=\"1\" class=\"dataframe\">\n",
       "  <thead>\n",
       "    <tr style=\"text-align: right;\">\n",
       "      <th></th>\n",
       "      <th>Tom,80,M</th>\n",
       "    </tr>\n",
       "  </thead>\n",
       "  <tbody>\n",
       "    <tr>\n",
       "      <th>0</th>\n",
       "      <td>Tim,85,M</td>\n",
       "    </tr>\n",
       "    <tr>\n",
       "      <th>1</th>\n",
       "      <td>Kim,70,M</td>\n",
       "    </tr>\n",
       "    <tr>\n",
       "      <th>2</th>\n",
       "      <td>Kate,90,F</td>\n",
       "    </tr>\n",
       "    <tr>\n",
       "      <th>3</th>\n",
       "      <td>Alex,75,F</td>\n",
       "    </tr>\n",
       "  </tbody>\n",
       "</table>\n",
       "</div>"
      ],
      "text/plain": [
       "    Tom,80,M\n",
       "0   Tim,85,M\n",
       "1   Kim,70,M\n",
       "2  Kate,90,F\n",
       "3  Alex,75,F"
      ]
     },
     "execution_count": 31,
     "metadata": {},
     "output_type": "execute_result"
    }
   ],
   "source": [
    "df2 = pd.read_table(\"M:\\pandas.txt\")\n",
    "df2"
   ]
  },
  {
   "cell_type": "code",
   "execution_count": 32,
   "id": "c8fb1096-14e2-4ef3-a0c3-5836deb9edeb",
   "metadata": {
    "tags": []
   },
   "outputs": [
    {
     "data": {
      "text/html": [
       "<div>\n",
       "<style scoped>\n",
       "    .dataframe tbody tr th:only-of-type {\n",
       "        vertical-align: middle;\n",
       "    }\n",
       "\n",
       "    .dataframe tbody tr th {\n",
       "        vertical-align: top;\n",
       "    }\n",
       "\n",
       "    .dataframe thead th {\n",
       "        text-align: right;\n",
       "    }\n",
       "</style>\n",
       "<table border=\"1\" class=\"dataframe\">\n",
       "  <thead>\n",
       "    <tr style=\"text-align: right;\">\n",
       "      <th></th>\n",
       "      <th>Tom</th>\n",
       "      <th>80</th>\n",
       "      <th>M</th>\n",
       "    </tr>\n",
       "  </thead>\n",
       "  <tbody>\n",
       "    <tr>\n",
       "      <th>0</th>\n",
       "      <td>Tim</td>\n",
       "      <td>85</td>\n",
       "      <td>M</td>\n",
       "    </tr>\n",
       "    <tr>\n",
       "      <th>1</th>\n",
       "      <td>Kim</td>\n",
       "      <td>70</td>\n",
       "      <td>M</td>\n",
       "    </tr>\n",
       "    <tr>\n",
       "      <th>2</th>\n",
       "      <td>Kate</td>\n",
       "      <td>90</td>\n",
       "      <td>F</td>\n",
       "    </tr>\n",
       "    <tr>\n",
       "      <th>3</th>\n",
       "      <td>Alex</td>\n",
       "      <td>75</td>\n",
       "      <td>F</td>\n",
       "    </tr>\n",
       "  </tbody>\n",
       "</table>\n",
       "</div>"
      ],
      "text/plain": [
       "    Tom  80  M\n",
       "0   Tim  85  M\n",
       "1   Kim  70  M\n",
       "2  Kate  90  F\n",
       "3  Alex  75  F"
      ]
     },
     "execution_count": 32,
     "metadata": {},
     "output_type": "execute_result"
    }
   ],
   "source": [
    "df2 = pd.read_csv('M:\\pandas.txt', sep=',')\n",
    "df2"
   ]
  },
  {
   "cell_type": "code",
   "execution_count": 33,
   "id": "19ad50a0-3795-4570-84f4-4005237ea227",
   "metadata": {
    "tags": []
   },
   "outputs": [
    {
     "data": {
      "text/html": [
       "<div>\n",
       "<style scoped>\n",
       "    .dataframe tbody tr th:only-of-type {\n",
       "        vertical-align: middle;\n",
       "    }\n",
       "\n",
       "    .dataframe tbody tr th {\n",
       "        vertical-align: top;\n",
       "    }\n",
       "\n",
       "    .dataframe thead th {\n",
       "        text-align: right;\n",
       "    }\n",
       "</style>\n",
       "<table border=\"1\" class=\"dataframe\">\n",
       "  <thead>\n",
       "    <tr style=\"text-align: right;\">\n",
       "      <th></th>\n",
       "      <th>0</th>\n",
       "      <th>1</th>\n",
       "      <th>2</th>\n",
       "    </tr>\n",
       "  </thead>\n",
       "  <tbody>\n",
       "    <tr>\n",
       "      <th>0</th>\n",
       "      <td>Tom</td>\n",
       "      <td>80</td>\n",
       "      <td>M</td>\n",
       "    </tr>\n",
       "    <tr>\n",
       "      <th>1</th>\n",
       "      <td>Tim</td>\n",
       "      <td>85</td>\n",
       "      <td>M</td>\n",
       "    </tr>\n",
       "    <tr>\n",
       "      <th>2</th>\n",
       "      <td>Kim</td>\n",
       "      <td>70</td>\n",
       "      <td>M</td>\n",
       "    </tr>\n",
       "    <tr>\n",
       "      <th>3</th>\n",
       "      <td>Kate</td>\n",
       "      <td>90</td>\n",
       "      <td>F</td>\n",
       "    </tr>\n",
       "    <tr>\n",
       "      <th>4</th>\n",
       "      <td>Alex</td>\n",
       "      <td>75</td>\n",
       "      <td>F</td>\n",
       "    </tr>\n",
       "  </tbody>\n",
       "</table>\n",
       "</div>"
      ],
      "text/plain": [
       "      0   1  2\n",
       "0   Tom  80  M\n",
       "1   Tim  85  M\n",
       "2   Kim  70  M\n",
       "3  Kate  90  F\n",
       "4  Alex  75  F"
      ]
     },
     "execution_count": 33,
     "metadata": {},
     "output_type": "execute_result"
    }
   ],
   "source": [
    "df = pd.read_table('M:\\data2.txt', sep=',', header=None)\n",
    "df"
   ]
  },
  {
   "cell_type": "code",
   "execution_count": 34,
   "id": "b5513816-b0b4-4b0c-99be-66ac600061da",
   "metadata": {
    "tags": []
   },
   "outputs": [
    {
     "data": {
      "text/html": [
       "<div>\n",
       "<style scoped>\n",
       "    .dataframe tbody tr th:only-of-type {\n",
       "        vertical-align: middle;\n",
       "    }\n",
       "\n",
       "    .dataframe tbody tr th {\n",
       "        vertical-align: top;\n",
       "    }\n",
       "\n",
       "    .dataframe thead th {\n",
       "        text-align: right;\n",
       "    }\n",
       "</style>\n",
       "<table border=\"1\" class=\"dataframe\">\n",
       "  <thead>\n",
       "    <tr style=\"text-align: right;\">\n",
       "      <th></th>\n",
       "      <th>name</th>\n",
       "      <th>score</th>\n",
       "      <th>sex</th>\n",
       "    </tr>\n",
       "  </thead>\n",
       "  <tbody>\n",
       "    <tr>\n",
       "      <th>0</th>\n",
       "      <td>Tom</td>\n",
       "      <td>80</td>\n",
       "      <td>M</td>\n",
       "    </tr>\n",
       "    <tr>\n",
       "      <th>1</th>\n",
       "      <td>Tim</td>\n",
       "      <td>85</td>\n",
       "      <td>M</td>\n",
       "    </tr>\n",
       "    <tr>\n",
       "      <th>2</th>\n",
       "      <td>Kim</td>\n",
       "      <td>70</td>\n",
       "      <td>M</td>\n",
       "    </tr>\n",
       "    <tr>\n",
       "      <th>3</th>\n",
       "      <td>Kate</td>\n",
       "      <td>90</td>\n",
       "      <td>F</td>\n",
       "    </tr>\n",
       "    <tr>\n",
       "      <th>4</th>\n",
       "      <td>Alex</td>\n",
       "      <td>75</td>\n",
       "      <td>F</td>\n",
       "    </tr>\n",
       "  </tbody>\n",
       "</table>\n",
       "</div>"
      ],
      "text/plain": [
       "   name  score sex\n",
       "0   Tom     80   M\n",
       "1   Tim     85   M\n",
       "2   Kim     70   M\n",
       "3  Kate     90   F\n",
       "4  Alex     75   F"
      ]
     },
     "execution_count": 34,
     "metadata": {},
     "output_type": "execute_result"
    }
   ],
   "source": [
    "df = pd.read_table('M:\\data2.txt', sep=',', names=[\"name\" , \"score\", \"sex\"])\n",
    "df"
   ]
  },
  {
   "cell_type": "code",
   "execution_count": 35,
   "id": "1bcd0b21-6daa-4942-ad88-18abe8747842",
   "metadata": {
    "tags": []
   },
   "outputs": [
    {
     "data": {
      "text/html": [
       "<div>\n",
       "<style scoped>\n",
       "    .dataframe tbody tr th:only-of-type {\n",
       "        vertical-align: middle;\n",
       "    }\n",
       "\n",
       "    .dataframe tbody tr th {\n",
       "        vertical-align: top;\n",
       "    }\n",
       "\n",
       "    .dataframe thead th {\n",
       "        text-align: right;\n",
       "    }\n",
       "</style>\n",
       "<table border=\"1\" class=\"dataframe\">\n",
       "  <thead>\n",
       "    <tr style=\"text-align: right;\">\n",
       "      <th></th>\n",
       "      <th>score</th>\n",
       "      <th>sex</th>\n",
       "    </tr>\n",
       "    <tr>\n",
       "      <th>name</th>\n",
       "      <th></th>\n",
       "      <th></th>\n",
       "    </tr>\n",
       "  </thead>\n",
       "  <tbody>\n",
       "    <tr>\n",
       "      <th>Tom</th>\n",
       "      <td>80</td>\n",
       "      <td>M</td>\n",
       "    </tr>\n",
       "    <tr>\n",
       "      <th>Tim</th>\n",
       "      <td>85</td>\n",
       "      <td>M</td>\n",
       "    </tr>\n",
       "    <tr>\n",
       "      <th>Kim</th>\n",
       "      <td>70</td>\n",
       "      <td>M</td>\n",
       "    </tr>\n",
       "    <tr>\n",
       "      <th>Kate</th>\n",
       "      <td>90</td>\n",
       "      <td>F</td>\n",
       "    </tr>\n",
       "    <tr>\n",
       "      <th>Alex</th>\n",
       "      <td>75</td>\n",
       "      <td>F</td>\n",
       "    </tr>\n",
       "  </tbody>\n",
       "</table>\n",
       "</div>"
      ],
      "text/plain": [
       "      score sex\n",
       "name           \n",
       "Tom      80   M\n",
       "Tim      85   M\n",
       "Kim      70   M\n",
       "Kate     90   F\n",
       "Alex     75   F"
      ]
     },
     "execution_count": 35,
     "metadata": {},
     "output_type": "execute_result"
    }
   ],
   "source": [
    "df = pd.read_table('M:\\data2.txt', sep=',', names=[\"name\" , \"score\", \"sex\"] , index_col='name')\n",
    "df"
   ]
  },
  {
   "cell_type": "code",
   "execution_count": 36,
   "id": "76b10d30-374a-4c26-a976-f7ad973a0f9a",
   "metadata": {
    "tags": []
   },
   "outputs": [
    {
     "data": {
      "text/html": [
       "<div>\n",
       "<style scoped>\n",
       "    .dataframe tbody tr th:only-of-type {\n",
       "        vertical-align: middle;\n",
       "    }\n",
       "\n",
       "    .dataframe tbody tr th {\n",
       "        vertical-align: top;\n",
       "    }\n",
       "\n",
       "    .dataframe thead th {\n",
       "        text-align: right;\n",
       "    }\n",
       "</style>\n",
       "<table border=\"1\" class=\"dataframe\">\n",
       "  <thead>\n",
       "    <tr style=\"text-align: right;\">\n",
       "      <th></th>\n",
       "      <th>name</th>\n",
       "      <th>score</th>\n",
       "      <th>sex</th>\n",
       "    </tr>\n",
       "  </thead>\n",
       "  <tbody>\n",
       "    <tr>\n",
       "      <th>0</th>\n",
       "      <td>Tim</td>\n",
       "      <td>80</td>\n",
       "      <td>M</td>\n",
       "    </tr>\n",
       "    <tr>\n",
       "      <th>1</th>\n",
       "      <td>Tom</td>\n",
       "      <td>85</td>\n",
       "      <td>M</td>\n",
       "    </tr>\n",
       "    <tr>\n",
       "      <th>2</th>\n",
       "      <td>Kim</td>\n",
       "      <td>70</td>\n",
       "      <td>F</td>\n",
       "    </tr>\n",
       "    <tr>\n",
       "      <th>3</th>\n",
       "      <td>Sam</td>\n",
       "      <td>90</td>\n",
       "      <td>M</td>\n",
       "    </tr>\n",
       "    <tr>\n",
       "      <th>4</th>\n",
       "      <td>Efe</td>\n",
       "      <td>75</td>\n",
       "      <td>M</td>\n",
       "    </tr>\n",
       "  </tbody>\n",
       "</table>\n",
       "</div>"
      ],
      "text/plain": [
       "  name  score sex\n",
       "0  Tim     80   M\n",
       "1  Tom     85   M\n",
       "2  Kim     70   F\n",
       "3  Sam     90   M\n",
       "4  Efe     75   M"
      ]
     },
     "execution_count": 36,
     "metadata": {},
     "output_type": "execute_result"
    }
   ],
   "source": [
    "df2 = pd.read_csv('M:\\Machine Leaning and Deep Learning Internship\\Pandas_Scikit_DrShyam_NITK\\Pandas_Scikit_DrShyam_NITK\\Data\\data.txt', sep='\\t')\n",
    "df2"
   ]
  },
  {
   "cell_type": "code",
   "execution_count": 37,
   "id": "432aca8f-9627-4316-b05a-53cad9295e7a",
   "metadata": {
    "tags": []
   },
   "outputs": [],
   "source": [
    "df.to_csv(r\"M:\\Machine Leaning and Deep Learning Internship\\Pandas_Scikit_DrShyam_NITK\\Pandas_Scikit_DrShyam_NITK\\Practice\\new_data.csv\")\n",
    "#or\n",
    "df.to_csv(\"M:\\\\Machine Leaning and Deep Learning Internship\\\\Pandas_Scikit_DrShyam_NITK\\\\Pandas_Scikit_DrShyam_NITK\\\\Practice\\\\new_data.csv\")\n"
   ]
  },
  {
   "cell_type": "markdown",
   "id": "a6307e1e-5d01-4585-88ae-e39f249bd854",
   "metadata": {},
   "source": [
    "#Sorting DataFrame"
   ]
  },
  {
   "cell_type": "code",
   "execution_count": 38,
   "id": "bf37a848-24af-418f-b510-1f222e430742",
   "metadata": {
    "tags": []
   },
   "outputs": [
    {
     "name": "stdout",
     "output_type": "stream",
     "text": [
      "   ID   Name  Age     City  Experience\n",
      "b  11  manas   23  kolkata          13\n",
      "d  12   manu   24   kontai          15\n",
      "a  13  sagar   28   mumbai          18\n"
     ]
    }
   ],
   "source": [
    "import pandas as pd\n",
    "\n",
    "# List of Tuples\n",
    "employees = [(11, 'manas', 23, 'kolkata', 13),\n",
    "             (12, 'manu', 24, 'kontai', 15),\n",
    "             (13, 'sagar', 28, 'mumbai', 18)]\n",
    "\n",
    "# Create a DataFrame Object\n",
    "df = pd.DataFrame(employees,\n",
    "                  columns=['ID', 'Name', 'Age', 'City', 'Experience'],\n",
    "                  index=['b', 'd', 'a'])\n",
    "\n",
    "# Display the DataFrame\n",
    "print(df)\n"
   ]
  },
  {
   "cell_type": "code",
   "execution_count": 39,
   "id": "adfc7250-3984-4891-b836-2d6d735a0c2f",
   "metadata": {
    "tags": []
   },
   "outputs": [
    {
     "name": "stdout",
     "output_type": "stream",
     "text": [
      "   ID   Name  Age     City  Experience\n",
      "b  11  manas   23  kolkata          13\n",
      "d  12   manu   24   kontai          15\n",
      "a  13  sagar   28   mumbai          18\n"
     ]
    }
   ],
   "source": [
    "df= df.sort_values(by=['Experience'])\n",
    "print(df)"
   ]
  },
  {
   "cell_type": "code",
   "execution_count": 40,
   "id": "f6b671b7-61ad-421c-9fcf-bf8eb7644f40",
   "metadata": {
    "tags": []
   },
   "outputs": [
    {
     "name": "stdout",
     "output_type": "stream",
     "text": [
      "   ID   Name  Age     City  Experience\n",
      "a  13  sagar   28   mumbai          18\n",
      "d  12   manu   24   kontai          15\n",
      "b  11  manas   23  kolkata          13\n"
     ]
    }
   ],
   "source": [
    "df= df.sort_values(by=['Experience'], ascending=False) #decending order\n",
    "print(df)"
   ]
  },
  {
   "cell_type": "code",
   "execution_count": 41,
   "id": "4641f351-6095-4ec4-97b2-2eff2827f94b",
   "metadata": {
    "tags": []
   },
   "outputs": [
    {
     "name": "stdout",
     "output_type": "stream",
     "text": [
      "   Age     City  Experience  ID   Name\n",
      "a   28   mumbai          18  13  sagar\n",
      "d   24   kontai          15  12   manu\n",
      "b   23  kolkata          13  11  manas\n"
     ]
    }
   ],
   "source": [
    "df= df.sort_index(axis=1)\n",
    "print(df)"
   ]
  },
  {
   "cell_type": "markdown",
   "id": "c97cb8f8-d2eb-4cc2-9805-2b9e44531ec1",
   "metadata": {
    "tags": []
   },
   "source": [
    "#merging or concatenating dataFrames"
   ]
  },
  {
   "cell_type": "code",
   "execution_count": 42,
   "id": "a49595a7-6664-4305-9e49-09b3573ab9be",
   "metadata": {
    "tags": []
   },
   "outputs": [
    {
     "name": "stdout",
     "output_type": "stream",
     "text": [
      "   ID   Name  Age     City  Experience\n",
      "a  11  manas   23  kolkata          13\n",
      "b  12   manu   24   kontai          15\n",
      "c  13  sagar   28   mumbai          18\n",
      "   ID      Name  Age     City  Experience\n",
      "a  12    manasi   22    kolka          14\n",
      "b  12    manuri   20  kontail          16\n",
      "c  13  sagarika   28  mumbail          18\n",
      "   ID       Name  Age      City  Experience\n",
      "a  11   manasini   23   kolkata          13\n",
      "b  12    manulou   24    kontai          15\n",
      "c  13  sagarikal   28  mumbaili          18\n"
     ]
    }
   ],
   "source": [
    "import pandas as pd\n",
    "\n",
    "# List of Tuples\n",
    "data1 = [(11, 'manas', 23, 'kolkata', 13),\n",
    "        (12, 'manu', 24, 'kontai', 15),\n",
    "        (13, 'sagar', 28, 'mumbai', 18)]\n",
    "\n",
    "data2 = [(12, 'manasi', 22, 'kolka', 14),\n",
    "        (12, 'manuri', 20, 'kontail', 16),\n",
    "        (13, 'sagarika', 28, 'mumbail', 18)]\n",
    "\n",
    "data3 = [(11, 'manasini', 23, 'kolkata', 13),\n",
    "        (12, 'manulou', 24, 'kontai', 15),\n",
    "        (13, 'sagarikal', 28, 'mumbaili', 18)]\n",
    "\n",
    "\n",
    "\n",
    "# Create a DataFrame Object\n",
    "firstDf = pd.DataFrame(data1,\n",
    "                  columns=['ID', 'Name', 'Age', 'City', 'Experience'],\n",
    "                  index=['a', 'b', 'c'])\n",
    "# Display the DataFrame\n",
    "print(firstDf)\n",
    "\n",
    "secondDf = pd.DataFrame(data2,\n",
    "                  columns=['ID', 'Name', 'Age', 'City', 'Experience'],\n",
    "                  index=['a', 'b', 'c'])\n",
    "# Display the DataFrame\n",
    "print(secondDf)\n",
    "\n",
    "thirdDf = pd.DataFrame(data3,\n",
    "                  columns=['ID', 'Name', 'Age', 'City', 'Experience'],\n",
    "                  index=['a', 'b', 'c'])\n",
    "\n",
    "# Display the DataFrame\n",
    "print(thirdDf)"
   ]
  },
  {
   "cell_type": "code",
   "execution_count": 43,
   "id": "6f2780e6-4f12-4ca9-80a8-ebe36a56de82",
   "metadata": {
    "tags": []
   },
   "outputs": [
    {
     "name": "stdout",
     "output_type": "stream",
     "text": [
      "   ID       Name  Age      City  Experience\n",
      "a  11      manas   23   kolkata          13\n",
      "b  12       manu   24    kontai          15\n",
      "c  13      sagar   28    mumbai          18\n",
      "a  12     manasi   22     kolka          14\n",
      "b  12     manuri   20   kontail          16\n",
      "c  13   sagarika   28   mumbail          18\n",
      "a  11   manasini   23   kolkata          13\n",
      "b  12    manulou   24    kontai          15\n",
      "c  13  sagarikal   28  mumbaili          18\n"
     ]
    }
   ],
   "source": [
    "#concatenate three DataFrames along the rows\n",
    "df = pd.concat([firstDf, secondDf, thirdDf])\n",
    "print(df)"
   ]
  },
  {
   "cell_type": "markdown",
   "id": "2b8c154c-f398-488a-9e41-2209ce44b5e2",
   "metadata": {},
   "source": [
    "#add a column"
   ]
  },
  {
   "cell_type": "code",
   "execution_count": 44,
   "id": "8a713428-4da3-4be9-a455-fae7ff16bc32",
   "metadata": {
    "tags": []
   },
   "outputs": [
    {
     "data": {
      "text/plain": [
       "[0, 1, 2, 3, 4, 5, 6, 7, 8, 9]"
      ]
     },
     "execution_count": 44,
     "metadata": {},
     "output_type": "execute_result"
    }
   ],
   "source": [
    "d= [0,1,2,3,4,5,6,7,8,9]\n",
    "d"
   ]
  },
  {
   "cell_type": "code",
   "execution_count": 45,
   "id": "57ff603c-be7a-4fbe-85df-2f526f980ded",
   "metadata": {
    "tags": []
   },
   "outputs": [
    {
     "data": {
      "text/html": [
       "<div>\n",
       "<style scoped>\n",
       "    .dataframe tbody tr th:only-of-type {\n",
       "        vertical-align: middle;\n",
       "    }\n",
       "\n",
       "    .dataframe tbody tr th {\n",
       "        vertical-align: top;\n",
       "    }\n",
       "\n",
       "    .dataframe thead th {\n",
       "        text-align: right;\n",
       "    }\n",
       "</style>\n",
       "<table border=\"1\" class=\"dataframe\">\n",
       "  <thead>\n",
       "    <tr style=\"text-align: right;\">\n",
       "      <th></th>\n",
       "      <th>0</th>\n",
       "    </tr>\n",
       "  </thead>\n",
       "  <tbody>\n",
       "    <tr>\n",
       "      <th>0</th>\n",
       "      <td>0</td>\n",
       "    </tr>\n",
       "    <tr>\n",
       "      <th>1</th>\n",
       "      <td>1</td>\n",
       "    </tr>\n",
       "    <tr>\n",
       "      <th>2</th>\n",
       "      <td>2</td>\n",
       "    </tr>\n",
       "    <tr>\n",
       "      <th>3</th>\n",
       "      <td>3</td>\n",
       "    </tr>\n",
       "    <tr>\n",
       "      <th>4</th>\n",
       "      <td>4</td>\n",
       "    </tr>\n",
       "    <tr>\n",
       "      <th>5</th>\n",
       "      <td>5</td>\n",
       "    </tr>\n",
       "    <tr>\n",
       "      <th>6</th>\n",
       "      <td>6</td>\n",
       "    </tr>\n",
       "    <tr>\n",
       "      <th>7</th>\n",
       "      <td>7</td>\n",
       "    </tr>\n",
       "    <tr>\n",
       "      <th>8</th>\n",
       "      <td>8</td>\n",
       "    </tr>\n",
       "    <tr>\n",
       "      <th>9</th>\n",
       "      <td>9</td>\n",
       "    </tr>\n",
       "  </tbody>\n",
       "</table>\n",
       "</div>"
      ],
      "text/plain": [
       "   0\n",
       "0  0\n",
       "1  1\n",
       "2  2\n",
       "3  3\n",
       "4  4\n",
       "5  5\n",
       "6  6\n",
       "7  7\n",
       "8  8\n",
       "9  9"
      ]
     },
     "execution_count": 45,
     "metadata": {},
     "output_type": "execute_result"
    }
   ],
   "source": [
    "df = pd.DataFrame(d)\n",
    "df"
   ]
  },
  {
   "cell_type": "code",
   "execution_count": 46,
   "id": "1c7d855a-5807-4b9b-bb3b-c81200ec0ca3",
   "metadata": {
    "tags": []
   },
   "outputs": [
    {
     "data": {
      "text/html": [
       "<div>\n",
       "<style scoped>\n",
       "    .dataframe tbody tr th:only-of-type {\n",
       "        vertical-align: middle;\n",
       "    }\n",
       "\n",
       "    .dataframe tbody tr th {\n",
       "        vertical-align: top;\n",
       "    }\n",
       "\n",
       "    .dataframe thead th {\n",
       "        text-align: right;\n",
       "    }\n",
       "</style>\n",
       "<table border=\"1\" class=\"dataframe\">\n",
       "  <thead>\n",
       "    <tr style=\"text-align: right;\">\n",
       "      <th></th>\n",
       "      <th>data1</th>\n",
       "    </tr>\n",
       "  </thead>\n",
       "  <tbody>\n",
       "    <tr>\n",
       "      <th>0</th>\n",
       "      <td>0</td>\n",
       "    </tr>\n",
       "    <tr>\n",
       "      <th>1</th>\n",
       "      <td>1</td>\n",
       "    </tr>\n",
       "    <tr>\n",
       "      <th>2</th>\n",
       "      <td>2</td>\n",
       "    </tr>\n",
       "    <tr>\n",
       "      <th>3</th>\n",
       "      <td>3</td>\n",
       "    </tr>\n",
       "    <tr>\n",
       "      <th>4</th>\n",
       "      <td>4</td>\n",
       "    </tr>\n",
       "    <tr>\n",
       "      <th>5</th>\n",
       "      <td>5</td>\n",
       "    </tr>\n",
       "    <tr>\n",
       "      <th>6</th>\n",
       "      <td>6</td>\n",
       "    </tr>\n",
       "    <tr>\n",
       "      <th>7</th>\n",
       "      <td>7</td>\n",
       "    </tr>\n",
       "    <tr>\n",
       "      <th>8</th>\n",
       "      <td>8</td>\n",
       "    </tr>\n",
       "    <tr>\n",
       "      <th>9</th>\n",
       "      <td>9</td>\n",
       "    </tr>\n",
       "  </tbody>\n",
       "</table>\n",
       "</div>"
      ],
      "text/plain": [
       "   data1\n",
       "0      0\n",
       "1      1\n",
       "2      2\n",
       "3      3\n",
       "4      4\n",
       "5      5\n",
       "6      6\n",
       "7      7\n",
       "8      8\n",
       "9      9"
      ]
     },
     "execution_count": 46,
     "metadata": {},
     "output_type": "execute_result"
    }
   ],
   "source": [
    "df.columns = ['data1']\n",
    "df"
   ]
  },
  {
   "cell_type": "code",
   "execution_count": 47,
   "id": "3b8df258-f5e7-4c66-92e1-b971b4abab3c",
   "metadata": {
    "tags": []
   },
   "outputs": [
    {
     "data": {
      "text/html": [
       "<div>\n",
       "<style scoped>\n",
       "    .dataframe tbody tr th:only-of-type {\n",
       "        vertical-align: middle;\n",
       "    }\n",
       "\n",
       "    .dataframe tbody tr th {\n",
       "        vertical-align: top;\n",
       "    }\n",
       "\n",
       "    .dataframe thead th {\n",
       "        text-align: right;\n",
       "    }\n",
       "</style>\n",
       "<table border=\"1\" class=\"dataframe\">\n",
       "  <thead>\n",
       "    <tr style=\"text-align: right;\">\n",
       "      <th></th>\n",
       "      <th>data1</th>\n",
       "      <th>NewCol</th>\n",
       "    </tr>\n",
       "  </thead>\n",
       "  <tbody>\n",
       "    <tr>\n",
       "      <th>0</th>\n",
       "      <td>0</td>\n",
       "      <td>6</td>\n",
       "    </tr>\n",
       "    <tr>\n",
       "      <th>1</th>\n",
       "      <td>1</td>\n",
       "      <td>6</td>\n",
       "    </tr>\n",
       "    <tr>\n",
       "      <th>2</th>\n",
       "      <td>2</td>\n",
       "      <td>6</td>\n",
       "    </tr>\n",
       "    <tr>\n",
       "      <th>3</th>\n",
       "      <td>3</td>\n",
       "      <td>6</td>\n",
       "    </tr>\n",
       "    <tr>\n",
       "      <th>4</th>\n",
       "      <td>4</td>\n",
       "      <td>6</td>\n",
       "    </tr>\n",
       "    <tr>\n",
       "      <th>5</th>\n",
       "      <td>5</td>\n",
       "      <td>6</td>\n",
       "    </tr>\n",
       "    <tr>\n",
       "      <th>6</th>\n",
       "      <td>6</td>\n",
       "      <td>6</td>\n",
       "    </tr>\n",
       "    <tr>\n",
       "      <th>7</th>\n",
       "      <td>7</td>\n",
       "      <td>6</td>\n",
       "    </tr>\n",
       "    <tr>\n",
       "      <th>8</th>\n",
       "      <td>8</td>\n",
       "      <td>6</td>\n",
       "    </tr>\n",
       "    <tr>\n",
       "      <th>9</th>\n",
       "      <td>9</td>\n",
       "      <td>6</td>\n",
       "    </tr>\n",
       "  </tbody>\n",
       "</table>\n",
       "</div>"
      ],
      "text/plain": [
       "   data1  NewCol\n",
       "0      0       6\n",
       "1      1       6\n",
       "2      2       6\n",
       "3      3       6\n",
       "4      4       6\n",
       "5      5       6\n",
       "6      6       6\n",
       "7      7       6\n",
       "8      8       6\n",
       "9      9       6"
      ]
     },
     "execution_count": 47,
     "metadata": {},
     "output_type": "execute_result"
    }
   ],
   "source": [
    "df['NewCol'] = 6\n",
    "df"
   ]
  },
  {
   "cell_type": "markdown",
   "id": "966e976e-feae-4dc2-a6a6-617eeedef9d9",
   "metadata": {},
   "source": [
    "#*Accessing and indexing the data*"
   ]
  },
  {
   "cell_type": "code",
   "execution_count": 48,
   "id": "dfa6f58c-1ec3-403f-9625-0cb22074a63a",
   "metadata": {
    "tags": []
   },
   "outputs": [
    {
     "data": {
      "text/html": [
       "<div>\n",
       "<style scoped>\n",
       "    .dataframe tbody tr th:only-of-type {\n",
       "        vertical-align: middle;\n",
       "    }\n",
       "\n",
       "    .dataframe tbody tr th {\n",
       "        vertical-align: top;\n",
       "    }\n",
       "\n",
       "    .dataframe thead th {\n",
       "        text-align: right;\n",
       "    }\n",
       "</style>\n",
       "<table border=\"1\" class=\"dataframe\">\n",
       "  <thead>\n",
       "    <tr style=\"text-align: right;\">\n",
       "      <th></th>\n",
       "      <th>data1</th>\n",
       "      <th>NewCol</th>\n",
       "    </tr>\n",
       "  </thead>\n",
       "  <tbody>\n",
       "    <tr>\n",
       "      <th>0</th>\n",
       "      <td>0</td>\n",
       "      <td>4</td>\n",
       "    </tr>\n",
       "    <tr>\n",
       "      <th>1</th>\n",
       "      <td>1</td>\n",
       "      <td>4</td>\n",
       "    </tr>\n",
       "    <tr>\n",
       "      <th>2</th>\n",
       "      <td>2</td>\n",
       "      <td>4</td>\n",
       "    </tr>\n",
       "    <tr>\n",
       "      <th>3</th>\n",
       "      <td>3</td>\n",
       "      <td>4</td>\n",
       "    </tr>\n",
       "    <tr>\n",
       "      <th>4</th>\n",
       "      <td>4</td>\n",
       "      <td>4</td>\n",
       "    </tr>\n",
       "    <tr>\n",
       "      <th>5</th>\n",
       "      <td>5</td>\n",
       "      <td>4</td>\n",
       "    </tr>\n",
       "    <tr>\n",
       "      <th>6</th>\n",
       "      <td>6</td>\n",
       "      <td>4</td>\n",
       "    </tr>\n",
       "    <tr>\n",
       "      <th>7</th>\n",
       "      <td>7</td>\n",
       "      <td>4</td>\n",
       "    </tr>\n",
       "    <tr>\n",
       "      <th>8</th>\n",
       "      <td>8</td>\n",
       "      <td>4</td>\n",
       "    </tr>\n",
       "    <tr>\n",
       "      <th>9</th>\n",
       "      <td>9</td>\n",
       "      <td>4</td>\n",
       "    </tr>\n",
       "  </tbody>\n",
       "</table>\n",
       "</div>"
      ],
      "text/plain": [
       "   data1  NewCol\n",
       "0      0       4\n",
       "1      1       4\n",
       "2      2       4\n",
       "3      3       4\n",
       "4      4       4\n",
       "5      5       4\n",
       "6      6       4\n",
       "7      7       4\n",
       "8      8       4\n",
       "9      9       4"
      ]
     },
     "execution_count": 48,
     "metadata": {},
     "output_type": "execute_result"
    }
   ],
   "source": [
    "#perform operations an columns  like subtract 2 from new column\n",
    "df['NewCol'] = df['NewCol'] - 2\n",
    "df"
   ]
  },
  {
   "cell_type": "code",
   "execution_count": 49,
   "id": "ef0dcadf-226e-4a47-afae-4c5cd0d6dc19",
   "metadata": {
    "tags": []
   },
   "outputs": [
    {
     "data": {
      "text/html": [
       "<div>\n",
       "<style scoped>\n",
       "    .dataframe tbody tr th:only-of-type {\n",
       "        vertical-align: middle;\n",
       "    }\n",
       "\n",
       "    .dataframe tbody tr th {\n",
       "        vertical-align: top;\n",
       "    }\n",
       "\n",
       "    .dataframe thead th {\n",
       "        text-align: right;\n",
       "    }\n",
       "</style>\n",
       "<table border=\"1\" class=\"dataframe\">\n",
       "  <thead>\n",
       "    <tr style=\"text-align: right;\">\n",
       "      <th></th>\n",
       "      <th>data1</th>\n",
       "      <th>NewCol</th>\n",
       "    </tr>\n",
       "  </thead>\n",
       "  <tbody>\n",
       "    <tr>\n",
       "      <th>0</th>\n",
       "      <td>-2</td>\n",
       "      <td>4</td>\n",
       "    </tr>\n",
       "    <tr>\n",
       "      <th>1</th>\n",
       "      <td>-1</td>\n",
       "      <td>4</td>\n",
       "    </tr>\n",
       "    <tr>\n",
       "      <th>2</th>\n",
       "      <td>0</td>\n",
       "      <td>4</td>\n",
       "    </tr>\n",
       "    <tr>\n",
       "      <th>3</th>\n",
       "      <td>1</td>\n",
       "      <td>4</td>\n",
       "    </tr>\n",
       "    <tr>\n",
       "      <th>4</th>\n",
       "      <td>2</td>\n",
       "      <td>4</td>\n",
       "    </tr>\n",
       "    <tr>\n",
       "      <th>5</th>\n",
       "      <td>3</td>\n",
       "      <td>4</td>\n",
       "    </tr>\n",
       "    <tr>\n",
       "      <th>6</th>\n",
       "      <td>4</td>\n",
       "      <td>4</td>\n",
       "    </tr>\n",
       "    <tr>\n",
       "      <th>7</th>\n",
       "      <td>5</td>\n",
       "      <td>4</td>\n",
       "    </tr>\n",
       "    <tr>\n",
       "      <th>8</th>\n",
       "      <td>6</td>\n",
       "      <td>4</td>\n",
       "    </tr>\n",
       "    <tr>\n",
       "      <th>9</th>\n",
       "      <td>7</td>\n",
       "      <td>4</td>\n",
       "    </tr>\n",
       "  </tbody>\n",
       "</table>\n",
       "</div>"
      ],
      "text/plain": [
       "   data1  NewCol\n",
       "0     -2       4\n",
       "1     -1       4\n",
       "2      0       4\n",
       "3      1       4\n",
       "4      2       4\n",
       "5      3       4\n",
       "6      4       4\n",
       "7      5       4\n",
       "8      6       4\n",
       "9      7       4"
      ]
     },
     "execution_count": 49,
     "metadata": {},
     "output_type": "execute_result"
    }
   ],
   "source": [
    "df['data1'] = df['data1'] - 2\n",
    "df"
   ]
  },
  {
   "cell_type": "code",
   "execution_count": 50,
   "id": "828373f7-248a-4ebd-a32d-699f331d402a",
   "metadata": {
    "tags": []
   },
   "outputs": [
    {
     "data": {
      "text/html": [
       "<div>\n",
       "<style scoped>\n",
       "    .dataframe tbody tr th:only-of-type {\n",
       "        vertical-align: middle;\n",
       "    }\n",
       "\n",
       "    .dataframe tbody tr th {\n",
       "        vertical-align: top;\n",
       "    }\n",
       "\n",
       "    .dataframe thead th {\n",
       "        text-align: right;\n",
       "    }\n",
       "</style>\n",
       "<table border=\"1\" class=\"dataframe\">\n",
       "  <thead>\n",
       "    <tr style=\"text-align: right;\">\n",
       "      <th></th>\n",
       "      <th>data1</th>\n",
       "      <th>NewCol</th>\n",
       "    </tr>\n",
       "  </thead>\n",
       "  <tbody>\n",
       "    <tr>\n",
       "      <th>0</th>\n",
       "      <td>-6</td>\n",
       "      <td>4</td>\n",
       "    </tr>\n",
       "    <tr>\n",
       "      <th>1</th>\n",
       "      <td>-3</td>\n",
       "      <td>4</td>\n",
       "    </tr>\n",
       "    <tr>\n",
       "      <th>2</th>\n",
       "      <td>0</td>\n",
       "      <td>4</td>\n",
       "    </tr>\n",
       "    <tr>\n",
       "      <th>3</th>\n",
       "      <td>3</td>\n",
       "      <td>4</td>\n",
       "    </tr>\n",
       "    <tr>\n",
       "      <th>4</th>\n",
       "      <td>6</td>\n",
       "      <td>4</td>\n",
       "    </tr>\n",
       "    <tr>\n",
       "      <th>5</th>\n",
       "      <td>9</td>\n",
       "      <td>4</td>\n",
       "    </tr>\n",
       "    <tr>\n",
       "      <th>6</th>\n",
       "      <td>12</td>\n",
       "      <td>4</td>\n",
       "    </tr>\n",
       "    <tr>\n",
       "      <th>7</th>\n",
       "      <td>15</td>\n",
       "      <td>4</td>\n",
       "    </tr>\n",
       "    <tr>\n",
       "      <th>8</th>\n",
       "      <td>18</td>\n",
       "      <td>4</td>\n",
       "    </tr>\n",
       "    <tr>\n",
       "      <th>9</th>\n",
       "      <td>21</td>\n",
       "      <td>4</td>\n",
       "    </tr>\n",
       "  </tbody>\n",
       "</table>\n",
       "</div>"
      ],
      "text/plain": [
       "   data1  NewCol\n",
       "0     -6       4\n",
       "1     -3       4\n",
       "2      0       4\n",
       "3      3       4\n",
       "4      6       4\n",
       "5      9       4\n",
       "6     12       4\n",
       "7     15       4\n",
       "8     18       4\n",
       "9     21       4"
      ]
     },
     "execution_count": 50,
     "metadata": {},
     "output_type": "execute_result"
    }
   ],
   "source": [
    "df['data1'] = df['data1'] * 3\n",
    "df"
   ]
  },
  {
   "cell_type": "code",
   "execution_count": 51,
   "id": "6ad70e00-014e-46d5-a7f2-9299768e8c66",
   "metadata": {
    "tags": []
   },
   "outputs": [
    {
     "data": {
      "text/html": [
       "<div>\n",
       "<style scoped>\n",
       "    .dataframe tbody tr th:only-of-type {\n",
       "        vertical-align: middle;\n",
       "    }\n",
       "\n",
       "    .dataframe tbody tr th {\n",
       "        vertical-align: top;\n",
       "    }\n",
       "\n",
       "    .dataframe thead th {\n",
       "        text-align: right;\n",
       "    }\n",
       "</style>\n",
       "<table border=\"1\" class=\"dataframe\">\n",
       "  <thead>\n",
       "    <tr style=\"text-align: right;\">\n",
       "      <th></th>\n",
       "      <th>data1</th>\n",
       "    </tr>\n",
       "  </thead>\n",
       "  <tbody>\n",
       "    <tr>\n",
       "      <th>0</th>\n",
       "      <td>-6</td>\n",
       "    </tr>\n",
       "    <tr>\n",
       "      <th>1</th>\n",
       "      <td>-3</td>\n",
       "    </tr>\n",
       "    <tr>\n",
       "      <th>2</th>\n",
       "      <td>0</td>\n",
       "    </tr>\n",
       "    <tr>\n",
       "      <th>3</th>\n",
       "      <td>3</td>\n",
       "    </tr>\n",
       "    <tr>\n",
       "      <th>4</th>\n",
       "      <td>6</td>\n",
       "    </tr>\n",
       "    <tr>\n",
       "      <th>5</th>\n",
       "      <td>9</td>\n",
       "    </tr>\n",
       "    <tr>\n",
       "      <th>6</th>\n",
       "      <td>12</td>\n",
       "    </tr>\n",
       "    <tr>\n",
       "      <th>7</th>\n",
       "      <td>15</td>\n",
       "    </tr>\n",
       "    <tr>\n",
       "      <th>8</th>\n",
       "      <td>18</td>\n",
       "    </tr>\n",
       "    <tr>\n",
       "      <th>9</th>\n",
       "      <td>21</td>\n",
       "    </tr>\n",
       "  </tbody>\n",
       "</table>\n",
       "</div>"
      ],
      "text/plain": [
       "   data1\n",
       "0     -6\n",
       "1     -3\n",
       "2      0\n",
       "3      3\n",
       "4      6\n",
       "5      9\n",
       "6     12\n",
       "7     15\n",
       "8     18\n",
       "9     21"
      ]
     },
     "execution_count": 51,
     "metadata": {},
     "output_type": "execute_result"
    }
   ],
   "source": [
    "del df['NewCol']\n",
    "df"
   ]
  },
  {
   "cell_type": "code",
   "execution_count": 52,
   "id": "003d14da-a81c-4024-bc71-645e176dd973",
   "metadata": {
    "tags": []
   },
   "outputs": [
    {
     "data": {
      "text/html": [
       "<div>\n",
       "<style scoped>\n",
       "    .dataframe tbody tr th:only-of-type {\n",
       "        vertical-align: middle;\n",
       "    }\n",
       "\n",
       "    .dataframe tbody tr th {\n",
       "        vertical-align: top;\n",
       "    }\n",
       "\n",
       "    .dataframe thead th {\n",
       "        text-align: right;\n",
       "    }\n",
       "</style>\n",
       "<table border=\"1\" class=\"dataframe\">\n",
       "  <thead>\n",
       "    <tr style=\"text-align: right;\">\n",
       "      <th></th>\n",
       "      <th>data1</th>\n",
       "    </tr>\n",
       "  </thead>\n",
       "  <tbody>\n",
       "    <tr>\n",
       "      <th>a</th>\n",
       "      <td>-6</td>\n",
       "    </tr>\n",
       "    <tr>\n",
       "      <th>b</th>\n",
       "      <td>-3</td>\n",
       "    </tr>\n",
       "    <tr>\n",
       "      <th>c</th>\n",
       "      <td>0</td>\n",
       "    </tr>\n",
       "    <tr>\n",
       "      <th>d</th>\n",
       "      <td>3</td>\n",
       "    </tr>\n",
       "    <tr>\n",
       "      <th>e</th>\n",
       "      <td>6</td>\n",
       "    </tr>\n",
       "    <tr>\n",
       "      <th>f</th>\n",
       "      <td>9</td>\n",
       "    </tr>\n",
       "    <tr>\n",
       "      <th>g</th>\n",
       "      <td>12</td>\n",
       "    </tr>\n",
       "    <tr>\n",
       "      <th>h</th>\n",
       "      <td>15</td>\n",
       "    </tr>\n",
       "    <tr>\n",
       "      <th>i</th>\n",
       "      <td>18</td>\n",
       "    </tr>\n",
       "    <tr>\n",
       "      <th>j</th>\n",
       "      <td>21</td>\n",
       "    </tr>\n",
       "  </tbody>\n",
       "</table>\n",
       "</div>"
      ],
      "text/plain": [
       "   data1\n",
       "a     -6\n",
       "b     -3\n",
       "c      0\n",
       "d      3\n",
       "e      6\n",
       "f      9\n",
       "g     12\n",
       "h     15\n",
       "i     18\n",
       "j     21"
      ]
     },
     "execution_count": 52,
     "metadata": {},
     "output_type": "execute_result"
    }
   ],
   "source": [
    "#edit the index name\n",
    "\n",
    "i = ['a' , 'b' , 'c' , 'd' , 'e' , 'f' , 'g' , 'h' , 'i' , 'j' ]\n",
    "df.index=i\n",
    "df\n",
    "\n",
    "#or \n",
    "\n",
    "df.index = ['a' , 'b' , 'c' , 'd' , 'e' , 'f' , 'g' , 'h' , 'i' , 'j' ]\n",
    "df"
   ]
  },
  {
   "cell_type": "code",
   "execution_count": 53,
   "id": "a19dd226-4b08-4266-a7bb-36a95ede6186",
   "metadata": {
    "tags": []
   },
   "outputs": [
    {
     "data": {
      "text/plain": [
       "-6"
      ]
     },
     "execution_count": 53,
     "metadata": {},
     "output_type": "execute_result"
    }
   ],
   "source": [
    "df.at['a' , 'data1']   #find the index value based on particular index"
   ]
  },
  {
   "cell_type": "markdown",
   "id": "478ff3c7-2e28-4db2-8556-dcf6c1d24160",
   "metadata": {
    "tags": []
   },
   "source": [
    "# Application of loc and iloc function"
   ]
  },
  {
   "cell_type": "raw",
   "id": "f9d1af0a-1e54-4343-aeb8-cb5dd24b20bc",
   "metadata": {},
   "source": [
    "# loc selects rows and columns with specific labels\n",
    "# iloc selects rows and columns at specific integer positions"
   ]
  },
  {
   "cell_type": "code",
   "execution_count": 54,
   "id": "6033001e-9b7c-4b70-9ddd-390363c66afb",
   "metadata": {
    "tags": []
   },
   "outputs": [
    {
     "data": {
      "text/plain": [
       "data1    0\n",
       "Name: c, dtype: int64"
      ]
     },
     "execution_count": 54,
     "metadata": {},
     "output_type": "execute_result"
    }
   ],
   "source": [
    "#Find based on index value\n",
    "df.loc['c'] #showing the c value"
   ]
  },
  {
   "cell_type": "code",
   "execution_count": 55,
   "id": "aec6f54d-8fb4-4d63-bc61-a511ce23eaf1",
   "metadata": {
    "tags": []
   },
   "outputs": [
    {
     "data": {
      "text/html": [
       "<div>\n",
       "<style scoped>\n",
       "    .dataframe tbody tr th:only-of-type {\n",
       "        vertical-align: middle;\n",
       "    }\n",
       "\n",
       "    .dataframe tbody tr th {\n",
       "        vertical-align: top;\n",
       "    }\n",
       "\n",
       "    .dataframe thead th {\n",
       "        text-align: right;\n",
       "    }\n",
       "</style>\n",
       "<table border=\"1\" class=\"dataframe\">\n",
       "  <thead>\n",
       "    <tr style=\"text-align: right;\">\n",
       "      <th></th>\n",
       "      <th>data1</th>\n",
       "    </tr>\n",
       "  </thead>\n",
       "  <tbody>\n",
       "    <tr>\n",
       "      <th>b</th>\n",
       "      <td>-3</td>\n",
       "    </tr>\n",
       "    <tr>\n",
       "      <th>c</th>\n",
       "      <td>0</td>\n",
       "    </tr>\n",
       "    <tr>\n",
       "      <th>d</th>\n",
       "      <td>3</td>\n",
       "    </tr>\n",
       "  </tbody>\n",
       "</table>\n",
       "</div>"
      ],
      "text/plain": [
       "   data1\n",
       "b     -3\n",
       "c      0\n",
       "d      3"
      ]
     },
     "execution_count": 55,
     "metadata": {},
     "output_type": "execute_result"
    }
   ],
   "source": [
    "df.loc['b':'d'] #showing the b to d value"
   ]
  },
  {
   "cell_type": "code",
   "execution_count": 56,
   "id": "548cfb87-6d02-4ddc-ad4d-acc0a238ba3f",
   "metadata": {
    "tags": []
   },
   "outputs": [
    {
     "data": {
      "text/html": [
       "<div>\n",
       "<style scoped>\n",
       "    .dataframe tbody tr th:only-of-type {\n",
       "        vertical-align: middle;\n",
       "    }\n",
       "\n",
       "    .dataframe tbody tr th {\n",
       "        vertical-align: top;\n",
       "    }\n",
       "\n",
       "    .dataframe thead th {\n",
       "        text-align: right;\n",
       "    }\n",
       "</style>\n",
       "<table border=\"1\" class=\"dataframe\">\n",
       "  <thead>\n",
       "    <tr style=\"text-align: right;\">\n",
       "      <th></th>\n",
       "      <th>data1</th>\n",
       "    </tr>\n",
       "  </thead>\n",
       "  <tbody>\n",
       "    <tr>\n",
       "      <th>a</th>\n",
       "      <td>-6</td>\n",
       "    </tr>\n",
       "    <tr>\n",
       "      <th>b</th>\n",
       "      <td>-3</td>\n",
       "    </tr>\n",
       "    <tr>\n",
       "      <th>c</th>\n",
       "      <td>0</td>\n",
       "    </tr>\n",
       "    <tr>\n",
       "      <th>d</th>\n",
       "      <td>3</td>\n",
       "    </tr>\n",
       "  </tbody>\n",
       "</table>\n",
       "</div>"
      ],
      "text/plain": [
       "   data1\n",
       "a     -6\n",
       "b     -3\n",
       "c      0\n",
       "d      3"
      ]
     },
     "execution_count": 56,
     "metadata": {},
     "output_type": "execute_result"
    }
   ],
   "source": [
    "df.iloc[0:4] #showing the 0 to 4 index integer wise value"
   ]
  },
  {
   "cell_type": "markdown",
   "id": "dfff36ab-a0a6-4fe7-bf59-e2c6d5be0447",
   "metadata": {
    "tags": []
   },
   "source": [
    "# Dealing with Missing data"
   ]
  },
  {
   "cell_type": "code",
   "execution_count": 57,
   "id": "9899b340-b671-4729-8377-3db06c467fa5",
   "metadata": {
    "tags": []
   },
   "outputs": [
    {
     "data": {
      "text/html": [
       "<div>\n",
       "<style scoped>\n",
       "    .dataframe tbody tr th:only-of-type {\n",
       "        vertical-align: middle;\n",
       "    }\n",
       "\n",
       "    .dataframe tbody tr th {\n",
       "        vertical-align: top;\n",
       "    }\n",
       "\n",
       "    .dataframe thead th {\n",
       "        text-align: right;\n",
       "    }\n",
       "</style>\n",
       "<table border=\"1\" class=\"dataframe\">\n",
       "  <thead>\n",
       "    <tr style=\"text-align: right;\">\n",
       "      <th></th>\n",
       "      <th>one</th>\n",
       "      <th>two</th>\n",
       "      <th>three</th>\n",
       "    </tr>\n",
       "  </thead>\n",
       "  <tbody>\n",
       "    <tr>\n",
       "      <th>a</th>\n",
       "      <td>0.560723</td>\n",
       "      <td>0.106739</td>\n",
       "      <td>0.009161</td>\n",
       "    </tr>\n",
       "    <tr>\n",
       "      <th>c</th>\n",
       "      <td>0.042356</td>\n",
       "      <td>0.042305</td>\n",
       "      <td>0.239991</td>\n",
       "    </tr>\n",
       "    <tr>\n",
       "      <th>e</th>\n",
       "      <td>0.208858</td>\n",
       "      <td>0.369723</td>\n",
       "      <td>0.968363</td>\n",
       "    </tr>\n",
       "    <tr>\n",
       "      <th>f</th>\n",
       "      <td>0.690443</td>\n",
       "      <td>0.891105</td>\n",
       "      <td>0.209865</td>\n",
       "    </tr>\n",
       "    <tr>\n",
       "      <th>h</th>\n",
       "      <td>0.065595</td>\n",
       "      <td>0.706085</td>\n",
       "      <td>0.775922</td>\n",
       "    </tr>\n",
       "  </tbody>\n",
       "</table>\n",
       "</div>"
      ],
      "text/plain": [
       "        one       two     three\n",
       "a  0.560723  0.106739  0.009161\n",
       "c  0.042356  0.042305  0.239991\n",
       "e  0.208858  0.369723  0.968363\n",
       "f  0.690443  0.891105  0.209865\n",
       "h  0.065595  0.706085  0.775922"
      ]
     },
     "execution_count": 57,
     "metadata": {},
     "output_type": "execute_result"
    }
   ],
   "source": [
    "df = pd.DataFrame (np.random.rand(5,3), index = ['a' , 'c' , 'e', 'f' , 'h'] , columns = [ 'one', 'two', 'three'])\n",
    "df"
   ]
  },
  {
   "cell_type": "code",
   "execution_count": 58,
   "id": "271d87f9-594b-45a2-ba85-b9232ec47219",
   "metadata": {
    "tags": []
   },
   "outputs": [
    {
     "data": {
      "text/html": [
       "<div>\n",
       "<style scoped>\n",
       "    .dataframe tbody tr th:only-of-type {\n",
       "        vertical-align: middle;\n",
       "    }\n",
       "\n",
       "    .dataframe tbody tr th {\n",
       "        vertical-align: top;\n",
       "    }\n",
       "\n",
       "    .dataframe thead th {\n",
       "        text-align: right;\n",
       "    }\n",
       "</style>\n",
       "<table border=\"1\" class=\"dataframe\">\n",
       "  <thead>\n",
       "    <tr style=\"text-align: right;\">\n",
       "      <th></th>\n",
       "      <th>one</th>\n",
       "      <th>two</th>\n",
       "      <th>three</th>\n",
       "    </tr>\n",
       "  </thead>\n",
       "  <tbody>\n",
       "    <tr>\n",
       "      <th>a</th>\n",
       "      <td>0.560723</td>\n",
       "      <td>NaN</td>\n",
       "      <td>0.009161</td>\n",
       "    </tr>\n",
       "    <tr>\n",
       "      <th>c</th>\n",
       "      <td>0.042356</td>\n",
       "      <td>0.042305</td>\n",
       "      <td>0.239991</td>\n",
       "    </tr>\n",
       "    <tr>\n",
       "      <th>e</th>\n",
       "      <td>0.208858</td>\n",
       "      <td>0.369723</td>\n",
       "      <td>0.968363</td>\n",
       "    </tr>\n",
       "    <tr>\n",
       "      <th>f</th>\n",
       "      <td>0.690443</td>\n",
       "      <td>0.891105</td>\n",
       "      <td>0.209865</td>\n",
       "    </tr>\n",
       "    <tr>\n",
       "      <th>h</th>\n",
       "      <td>0.065595</td>\n",
       "      <td>0.706085</td>\n",
       "      <td>0.775922</td>\n",
       "    </tr>\n",
       "  </tbody>\n",
       "</table>\n",
       "</div>"
      ],
      "text/plain": [
       "        one       two     three\n",
       "a  0.560723       NaN  0.009161\n",
       "c  0.042356  0.042305  0.239991\n",
       "e  0.208858  0.369723  0.968363\n",
       "f  0.690443  0.891105  0.209865\n",
       "h  0.065595  0.706085  0.775922"
      ]
     },
     "execution_count": 58,
     "metadata": {},
     "output_type": "execute_result"
    }
   ],
   "source": [
    "df.loc['a' , 'two' ] = np.nan   #insert nan value\n",
    "df"
   ]
  },
  {
   "cell_type": "code",
   "execution_count": 59,
   "id": "21c174c8-1010-4057-a4c4-2a71bb6fafc4",
   "metadata": {
    "tags": []
   },
   "outputs": [
    {
     "data": {
      "text/html": [
       "<div>\n",
       "<style scoped>\n",
       "    .dataframe tbody tr th:only-of-type {\n",
       "        vertical-align: middle;\n",
       "    }\n",
       "\n",
       "    .dataframe tbody tr th {\n",
       "        vertical-align: top;\n",
       "    }\n",
       "\n",
       "    .dataframe thead th {\n",
       "        text-align: right;\n",
       "    }\n",
       "</style>\n",
       "<table border=\"1\" class=\"dataframe\">\n",
       "  <thead>\n",
       "    <tr style=\"text-align: right;\">\n",
       "      <th></th>\n",
       "      <th>one</th>\n",
       "      <th>two</th>\n",
       "      <th>three</th>\n",
       "    </tr>\n",
       "  </thead>\n",
       "  <tbody>\n",
       "    <tr>\n",
       "      <th>a</th>\n",
       "      <td>False</td>\n",
       "      <td>True</td>\n",
       "      <td>False</td>\n",
       "    </tr>\n",
       "    <tr>\n",
       "      <th>c</th>\n",
       "      <td>False</td>\n",
       "      <td>False</td>\n",
       "      <td>False</td>\n",
       "    </tr>\n",
       "    <tr>\n",
       "      <th>e</th>\n",
       "      <td>False</td>\n",
       "      <td>False</td>\n",
       "      <td>False</td>\n",
       "    </tr>\n",
       "    <tr>\n",
       "      <th>f</th>\n",
       "      <td>False</td>\n",
       "      <td>False</td>\n",
       "      <td>False</td>\n",
       "    </tr>\n",
       "    <tr>\n",
       "      <th>h</th>\n",
       "      <td>False</td>\n",
       "      <td>False</td>\n",
       "      <td>False</td>\n",
       "    </tr>\n",
       "  </tbody>\n",
       "</table>\n",
       "</div>"
      ],
      "text/plain": [
       "     one    two  three\n",
       "a  False   True  False\n",
       "c  False  False  False\n",
       "e  False  False  False\n",
       "f  False  False  False\n",
       "h  False  False  False"
      ]
     },
     "execution_count": 59,
     "metadata": {},
     "output_type": "execute_result"
    }
   ],
   "source": [
    "df.isnull()   #true means there have null value"
   ]
  },
  {
   "cell_type": "code",
   "execution_count": 60,
   "id": "6dd0872f-a74b-43c1-b072-52c176ab2a6a",
   "metadata": {
    "tags": []
   },
   "outputs": [
    {
     "data": {
      "text/html": [
       "<div>\n",
       "<style scoped>\n",
       "    .dataframe tbody tr th:only-of-type {\n",
       "        vertical-align: middle;\n",
       "    }\n",
       "\n",
       "    .dataframe tbody tr th {\n",
       "        vertical-align: top;\n",
       "    }\n",
       "\n",
       "    .dataframe thead th {\n",
       "        text-align: right;\n",
       "    }\n",
       "</style>\n",
       "<table border=\"1\" class=\"dataframe\">\n",
       "  <thead>\n",
       "    <tr style=\"text-align: right;\">\n",
       "      <th></th>\n",
       "      <th>one</th>\n",
       "      <th>two</th>\n",
       "      <th>three</th>\n",
       "    </tr>\n",
       "  </thead>\n",
       "  <tbody>\n",
       "    <tr>\n",
       "      <th>a</th>\n",
       "      <td>0.560723</td>\n",
       "      <td>2.000000</td>\n",
       "      <td>0.009161</td>\n",
       "    </tr>\n",
       "    <tr>\n",
       "      <th>c</th>\n",
       "      <td>0.042356</td>\n",
       "      <td>0.042305</td>\n",
       "      <td>0.239991</td>\n",
       "    </tr>\n",
       "    <tr>\n",
       "      <th>e</th>\n",
       "      <td>0.208858</td>\n",
       "      <td>0.369723</td>\n",
       "      <td>0.968363</td>\n",
       "    </tr>\n",
       "    <tr>\n",
       "      <th>f</th>\n",
       "      <td>0.690443</td>\n",
       "      <td>0.891105</td>\n",
       "      <td>0.209865</td>\n",
       "    </tr>\n",
       "    <tr>\n",
       "      <th>h</th>\n",
       "      <td>0.065595</td>\n",
       "      <td>0.706085</td>\n",
       "      <td>0.775922</td>\n",
       "    </tr>\n",
       "  </tbody>\n",
       "</table>\n",
       "</div>"
      ],
      "text/plain": [
       "        one       two     three\n",
       "a  0.560723  2.000000  0.009161\n",
       "c  0.042356  0.042305  0.239991\n",
       "e  0.208858  0.369723  0.968363\n",
       "f  0.690443  0.891105  0.209865\n",
       "h  0.065595  0.706085  0.775922"
      ]
     },
     "execution_count": 60,
     "metadata": {},
     "output_type": "execute_result"
    }
   ],
   "source": [
    "#fill the null data\n",
    "df.fillna(2)"
   ]
  },
  {
   "cell_type": "markdown",
   "id": "d4e0311d-4dbe-47c8-a9d7-d73a1764af14",
   "metadata": {},
   "source": [
    "# Apply a Function"
   ]
  },
  {
   "cell_type": "code",
   "execution_count": 61,
   "id": "299b23a7-b97d-409e-9673-8923c18dd752",
   "metadata": {
    "tags": []
   },
   "outputs": [
    {
     "data": {
      "text/plain": [
       "one      0.648087\n",
       "two      0.848800\n",
       "three    0.959202\n",
       "dtype: float64"
      ]
     },
     "execution_count": 61,
     "metadata": {},
     "output_type": "execute_result"
    }
   ],
   "source": [
    "# we can apply any function to the columns in a dataframe\n",
    "\n",
    "df.apply (lambda x: x.max () - x.min())    # max - min value of each column"
   ]
  },
  {
   "cell_type": "code",
   "execution_count": 62,
   "id": "5adc0def-3dd8-45d5-b825-0d3295bd48b2",
   "metadata": {
    "tags": []
   },
   "outputs": [
    {
     "data": {
      "text/html": [
       "<div>\n",
       "<style scoped>\n",
       "    .dataframe tbody tr th:only-of-type {\n",
       "        vertical-align: middle;\n",
       "    }\n",
       "\n",
       "    .dataframe tbody tr th {\n",
       "        vertical-align: top;\n",
       "    }\n",
       "\n",
       "    .dataframe thead th {\n",
       "        text-align: right;\n",
       "    }\n",
       "</style>\n",
       "<table border=\"1\" class=\"dataframe\">\n",
       "  <thead>\n",
       "    <tr style=\"text-align: right;\">\n",
       "      <th></th>\n",
       "      <th>one</th>\n",
       "      <th>two</th>\n",
       "      <th>three</th>\n",
       "    </tr>\n",
       "  </thead>\n",
       "  <tbody>\n",
       "    <tr>\n",
       "      <th>a</th>\n",
       "      <td>0.748814</td>\n",
       "      <td>NaN</td>\n",
       "      <td>0.095715</td>\n",
       "    </tr>\n",
       "    <tr>\n",
       "      <th>c</th>\n",
       "      <td>0.205806</td>\n",
       "      <td>0.205681</td>\n",
       "      <td>0.489889</td>\n",
       "    </tr>\n",
       "    <tr>\n",
       "      <th>e</th>\n",
       "      <td>0.457009</td>\n",
       "      <td>0.608048</td>\n",
       "      <td>0.984054</td>\n",
       "    </tr>\n",
       "    <tr>\n",
       "      <th>f</th>\n",
       "      <td>0.830929</td>\n",
       "      <td>0.943984</td>\n",
       "      <td>0.458110</td>\n",
       "    </tr>\n",
       "    <tr>\n",
       "      <th>h</th>\n",
       "      <td>0.256115</td>\n",
       "      <td>0.840288</td>\n",
       "      <td>0.880864</td>\n",
       "    </tr>\n",
       "  </tbody>\n",
       "</table>\n",
       "</div>"
      ],
      "text/plain": [
       "        one       two     three\n",
       "a  0.748814       NaN  0.095715\n",
       "c  0.205806  0.205681  0.489889\n",
       "e  0.457009  0.608048  0.984054\n",
       "f  0.830929  0.943984  0.458110\n",
       "h  0.256115  0.840288  0.880864"
      ]
     },
     "execution_count": 62,
     "metadata": {},
     "output_type": "execute_result"
    }
   ],
   "source": [
    "df.applymap(np.sqrt)"
   ]
  },
  {
   "cell_type": "markdown",
   "id": "e9966795-eb22-459a-8988-0e388e69b521",
   "metadata": {},
   "source": [
    "# Query the data"
   ]
  },
  {
   "cell_type": "code",
   "execution_count": 63,
   "id": "8126b149-4526-412c-a958-ca45d2e0672e",
   "metadata": {
    "tags": []
   },
   "outputs": [
    {
     "data": {
      "text/plain": [
       "4    0\n",
       "3    1\n",
       "2    2\n",
       "1    3\n",
       "0    4\n",
       "dtype: int64"
      ]
     },
     "execution_count": 63,
     "metadata": {},
     "output_type": "execute_result"
    }
   ],
   "source": [
    "s = pd.Series(np.arange(5) , index = np.arange (5) [::-1] , dtype = 'int64')    # here -1 means decending order\n",
    "s"
   ]
  },
  {
   "cell_type": "code",
   "execution_count": 64,
   "id": "1c56d807-7ed8-4dc3-90b8-5433e7265060",
   "metadata": {
    "tags": []
   },
   "outputs": [
    {
     "data": {
      "text/plain": [
       "4    False\n",
       "3    False\n",
       "2     True\n",
       "1    False\n",
       "0     True\n",
       "dtype: bool"
      ]
     },
     "execution_count": 64,
     "metadata": {},
     "output_type": "execute_result"
    }
   ],
   "source": [
    "s.isin ([2,4,6]) #is this numbrs are available in the dataset or not"
   ]
  },
  {
   "cell_type": "code",
   "execution_count": 65,
   "id": "4c987925-055e-4b77-896c-8bb249c5feca",
   "metadata": {
    "tags": []
   },
   "outputs": [
    {
     "data": {
      "text/plain": [
       "4    NaN\n",
       "3    NaN\n",
       "2    NaN\n",
       "1    NaN\n",
       "0    4.0\n",
       "dtype: float64"
      ]
     },
     "execution_count": 65,
     "metadata": {},
     "output_type": "execute_result"
    }
   ],
   "source": [
    "s.where ( s>3 ) #greater than 3 is available or not"
   ]
  },
  {
   "cell_type": "markdown",
   "id": "337c2218-0525-450c-98b6-ba583b3ae087",
   "metadata": {},
   "source": [
    "# Grouping the data"
   ]
  },
  {
   "cell_type": "markdown",
   "id": "8339de4e-7a48-431f-b4b5-0b5f7486d1c6",
   "metadata": {
    "tags": []
   },
   "source": [
    "#creating a grouping organizes the data and returnes a group by project\n",
    "\n",
    "##grouped = obj.groupby(key)\n",
    "##grouped = obj.groupby(key.axis=1)\n",
    "##grouped = obj.groupby([key1.key2])"
   ]
  },
  {
   "cell_type": "code",
   "execution_count": 66,
   "id": "2809b344-9d58-4230-a6a6-3ac5608a271f",
   "metadata": {
    "tags": []
   },
   "outputs": [
    {
     "data": {
      "text/html": [
       "<div>\n",
       "<style scoped>\n",
       "    .dataframe tbody tr th:only-of-type {\n",
       "        vertical-align: middle;\n",
       "    }\n",
       "\n",
       "    .dataframe tbody tr th {\n",
       "        vertical-align: top;\n",
       "    }\n",
       "\n",
       "    .dataframe thead th {\n",
       "        text-align: right;\n",
       "    }\n",
       "</style>\n",
       "<table border=\"1\" class=\"dataframe\">\n",
       "  <thead>\n",
       "    <tr style=\"text-align: right;\">\n",
       "      <th></th>\n",
       "      <th>A</th>\n",
       "      <th>B</th>\n",
       "      <th>C</th>\n",
       "      <th>D</th>\n",
       "    </tr>\n",
       "  </thead>\n",
       "  <tbody>\n",
       "    <tr>\n",
       "      <th>0</th>\n",
       "      <td>foo</td>\n",
       "      <td>one</td>\n",
       "      <td>0.603431</td>\n",
       "      <td>0.187191</td>\n",
       "    </tr>\n",
       "    <tr>\n",
       "      <th>1</th>\n",
       "      <td>bar</td>\n",
       "      <td>one</td>\n",
       "      <td>0.245921</td>\n",
       "      <td>0.105204</td>\n",
       "    </tr>\n",
       "    <tr>\n",
       "      <th>2</th>\n",
       "      <td>foo</td>\n",
       "      <td>two</td>\n",
       "      <td>0.804627</td>\n",
       "      <td>0.227530</td>\n",
       "    </tr>\n",
       "    <tr>\n",
       "      <th>3</th>\n",
       "      <td>bar</td>\n",
       "      <td>three</td>\n",
       "      <td>0.311213</td>\n",
       "      <td>0.534250</td>\n",
       "    </tr>\n",
       "    <tr>\n",
       "      <th>4</th>\n",
       "      <td>foo</td>\n",
       "      <td>two</td>\n",
       "      <td>0.773813</td>\n",
       "      <td>0.654267</td>\n",
       "    </tr>\n",
       "    <tr>\n",
       "      <th>5</th>\n",
       "      <td>bar</td>\n",
       "      <td>two</td>\n",
       "      <td>0.229809</td>\n",
       "      <td>0.779456</td>\n",
       "    </tr>\n",
       "    <tr>\n",
       "      <th>6</th>\n",
       "      <td>foo</td>\n",
       "      <td>one</td>\n",
       "      <td>0.420488</td>\n",
       "      <td>0.369076</td>\n",
       "    </tr>\n",
       "    <tr>\n",
       "      <th>7</th>\n",
       "      <td>foo</td>\n",
       "      <td>three</td>\n",
       "      <td>0.395024</td>\n",
       "      <td>0.285464</td>\n",
       "    </tr>\n",
       "  </tbody>\n",
       "</table>\n",
       "</div>"
      ],
      "text/plain": [
       "     A      B         C         D\n",
       "0  foo    one  0.603431  0.187191\n",
       "1  bar    one  0.245921  0.105204\n",
       "2  foo    two  0.804627  0.227530\n",
       "3  bar  three  0.311213  0.534250\n",
       "4  foo    two  0.773813  0.654267\n",
       "5  bar    two  0.229809  0.779456\n",
       "6  foo    one  0.420488  0.369076\n",
       "7  foo  three  0.395024  0.285464"
      ]
     },
     "execution_count": 66,
     "metadata": {},
     "output_type": "execute_result"
    }
   ],
   "source": [
    "df = pd.DataFrame ({'A' : [ 'foo' , 'bar' , 'foo' , 'bar' , 'foo' , 'bar' , 'foo', 'foo'],\n",
    "                    'B' : [ 'one' , 'one' , 'two' , 'three' , 'two' , 'two', 'one' , 'three'],\n",
    "                    'C' : np.random.rand (8) , \n",
    "                    'D' : np.random.rand (8) })\n",
    "df"
   ]
  },
  {
   "cell_type": "code",
   "execution_count": 67,
   "id": "484c02de-ec7b-452d-84ec-11106639a69b",
   "metadata": {
    "tags": []
   },
   "outputs": [
    {
     "data": {
      "text/plain": [
       "<pandas.core.groupby.generic.DataFrameGroupBy object at 0x000001DE54247910>"
      ]
     },
     "execution_count": 67,
     "metadata": {},
     "output_type": "execute_result"
    }
   ],
   "source": [
    "#group by either A or B column or both\n",
    "grouped = df.groupby('A')\n",
    "grouped"
   ]
  },
  {
   "cell_type": "code",
   "execution_count": 68,
   "id": "e532d91a-d77a-41c4-bbd1-8570169f244f",
   "metadata": {
    "tags": []
   },
   "outputs": [
    {
     "data": {
      "text/html": [
       "<div>\n",
       "<style scoped>\n",
       "    .dataframe tbody tr th:only-of-type {\n",
       "        vertical-align: middle;\n",
       "    }\n",
       "\n",
       "    .dataframe tbody tr th {\n",
       "        vertical-align: top;\n",
       "    }\n",
       "\n",
       "    .dataframe thead tr th {\n",
       "        text-align: left;\n",
       "    }\n",
       "\n",
       "    .dataframe thead tr:last-of-type th {\n",
       "        text-align: right;\n",
       "    }\n",
       "</style>\n",
       "<table border=\"1\" class=\"dataframe\">\n",
       "  <thead>\n",
       "    <tr>\n",
       "      <th></th>\n",
       "      <th colspan=\"8\" halign=\"left\">C</th>\n",
       "      <th colspan=\"8\" halign=\"left\">D</th>\n",
       "    </tr>\n",
       "    <tr>\n",
       "      <th></th>\n",
       "      <th>count</th>\n",
       "      <th>mean</th>\n",
       "      <th>std</th>\n",
       "      <th>min</th>\n",
       "      <th>25%</th>\n",
       "      <th>50%</th>\n",
       "      <th>75%</th>\n",
       "      <th>max</th>\n",
       "      <th>count</th>\n",
       "      <th>mean</th>\n",
       "      <th>std</th>\n",
       "      <th>min</th>\n",
       "      <th>25%</th>\n",
       "      <th>50%</th>\n",
       "      <th>75%</th>\n",
       "      <th>max</th>\n",
       "    </tr>\n",
       "    <tr>\n",
       "      <th>A</th>\n",
       "      <th></th>\n",
       "      <th></th>\n",
       "      <th></th>\n",
       "      <th></th>\n",
       "      <th></th>\n",
       "      <th></th>\n",
       "      <th></th>\n",
       "      <th></th>\n",
       "      <th></th>\n",
       "      <th></th>\n",
       "      <th></th>\n",
       "      <th></th>\n",
       "      <th></th>\n",
       "      <th></th>\n",
       "      <th></th>\n",
       "      <th></th>\n",
       "    </tr>\n",
       "  </thead>\n",
       "  <tbody>\n",
       "    <tr>\n",
       "      <th>bar</th>\n",
       "      <td>3.0</td>\n",
       "      <td>0.262314</td>\n",
       "      <td>0.043107</td>\n",
       "      <td>0.229809</td>\n",
       "      <td>0.237865</td>\n",
       "      <td>0.245921</td>\n",
       "      <td>0.278567</td>\n",
       "      <td>0.311213</td>\n",
       "      <td>3.0</td>\n",
       "      <td>0.472970</td>\n",
       "      <td>0.341277</td>\n",
       "      <td>0.105204</td>\n",
       "      <td>0.319727</td>\n",
       "      <td>0.534250</td>\n",
       "      <td>0.656853</td>\n",
       "      <td>0.779456</td>\n",
       "    </tr>\n",
       "    <tr>\n",
       "      <th>foo</th>\n",
       "      <td>5.0</td>\n",
       "      <td>0.599477</td>\n",
       "      <td>0.191268</td>\n",
       "      <td>0.395024</td>\n",
       "      <td>0.420488</td>\n",
       "      <td>0.603431</td>\n",
       "      <td>0.773813</td>\n",
       "      <td>0.804627</td>\n",
       "      <td>5.0</td>\n",
       "      <td>0.344705</td>\n",
       "      <td>0.186060</td>\n",
       "      <td>0.187191</td>\n",
       "      <td>0.227530</td>\n",
       "      <td>0.285464</td>\n",
       "      <td>0.369076</td>\n",
       "      <td>0.654267</td>\n",
       "    </tr>\n",
       "  </tbody>\n",
       "</table>\n",
       "</div>"
      ],
      "text/plain": [
       "        C                                                              \\\n",
       "    count      mean       std       min       25%       50%       75%   \n",
       "A                                                                       \n",
       "bar   3.0  0.262314  0.043107  0.229809  0.237865  0.245921  0.278567   \n",
       "foo   5.0  0.599477  0.191268  0.395024  0.420488  0.603431  0.773813   \n",
       "\n",
       "                  D                                                    \\\n",
       "          max count      mean       std       min       25%       50%   \n",
       "A                                                                       \n",
       "bar  0.311213   3.0  0.472970  0.341277  0.105204  0.319727  0.534250   \n",
       "foo  0.804627   5.0  0.344705  0.186060  0.187191  0.227530  0.285464   \n",
       "\n",
       "                         \n",
       "          75%       max  \n",
       "A                        \n",
       "bar  0.656853  0.779456  \n",
       "foo  0.369076  0.654267  "
      ]
     },
     "execution_count": 68,
     "metadata": {},
     "output_type": "execute_result"
    }
   ],
   "source": [
    "grouped.describe()"
   ]
  },
  {
   "cell_type": "code",
   "execution_count": 69,
   "id": "46175bf0-5c64-4620-ae02-f4bd26998e65",
   "metadata": {
    "tags": []
   },
   "outputs": [
    {
     "data": {
      "text/plain": [
       "A\n",
       "bar    3\n",
       "foo    5\n",
       "dtype: int64"
      ]
     },
     "execution_count": 69,
     "metadata": {},
     "output_type": "execute_result"
    }
   ],
   "source": [
    "grouped.size()"
   ]
  },
  {
   "cell_type": "code",
   "execution_count": 70,
   "id": "fa8cf911-cf90-4569-ab39-0854b6962c01",
   "metadata": {
    "tags": []
   },
   "outputs": [
    {
     "data": {
      "text/plain": [
       "[('bar',\n",
       "       A      B         C         D\n",
       "  1  bar    one  0.245921  0.105204\n",
       "  3  bar  three  0.311213  0.534250\n",
       "  5  bar    two  0.229809  0.779456),\n",
       " ('foo',\n",
       "       A      B         C         D\n",
       "  0  foo    one  0.603431  0.187191\n",
       "  2  foo    two  0.804627  0.227530\n",
       "  4  foo    two  0.773813  0.654267\n",
       "  6  foo    one  0.420488  0.369076\n",
       "  7  foo  three  0.395024  0.285464)]"
      ]
     },
     "execution_count": 70,
     "metadata": {},
     "output_type": "execute_result"
    }
   ],
   "source": [
    "list(grouped)"
   ]
  },
  {
   "cell_type": "markdown",
   "id": "6e4700bb-f8e0-4d7a-b43f-a5d8130af2ce",
   "metadata": {},
   "source": [
    "# Reading Time Series data (.csv)"
   ]
  },
  {
   "cell_type": "code",
   "execution_count": 71,
   "id": "9e6d9dd6-51ee-4bf9-aaaa-eb2416b35f59",
   "metadata": {
    "tags": []
   },
   "outputs": [
    {
     "name": "stderr",
     "output_type": "stream",
     "text": [
      "C:\\Users\\manas\\AppData\\Local\\Temp\\ipykernel_15896\\2436541909.py:1: DtypeWarning: Columns (3,4,5,6,12) have mixed types. Specify dtype option on import or set low_memory=False.\n",
      "  df = pd.read_csv(\"M:\\Machine Leaning and Deep Learning Internship\\Pandas_Scikit_DrShyam_NITK\\Pandas_Scikit_DrShyam_NITK\\Salaries.csv\")\n"
     ]
    },
    {
     "data": {
      "text/html": [
       "<div>\n",
       "<style scoped>\n",
       "    .dataframe tbody tr th:only-of-type {\n",
       "        vertical-align: middle;\n",
       "    }\n",
       "\n",
       "    .dataframe tbody tr th {\n",
       "        vertical-align: top;\n",
       "    }\n",
       "\n",
       "    .dataframe thead th {\n",
       "        text-align: right;\n",
       "    }\n",
       "</style>\n",
       "<table border=\"1\" class=\"dataframe\">\n",
       "  <thead>\n",
       "    <tr style=\"text-align: right;\">\n",
       "      <th></th>\n",
       "      <th>Id</th>\n",
       "      <th>EmployeeName</th>\n",
       "      <th>JobTitle</th>\n",
       "      <th>BasePay</th>\n",
       "      <th>OvertimePay</th>\n",
       "      <th>OtherPay</th>\n",
       "      <th>Benefits</th>\n",
       "      <th>TotalPay</th>\n",
       "      <th>TotalPayBenefits</th>\n",
       "      <th>Year</th>\n",
       "      <th>Notes</th>\n",
       "      <th>Agency</th>\n",
       "      <th>Status</th>\n",
       "    </tr>\n",
       "  </thead>\n",
       "  <tbody>\n",
       "    <tr>\n",
       "      <th>0</th>\n",
       "      <td>1</td>\n",
       "      <td>NATHANIEL FORD</td>\n",
       "      <td>GENERAL MANAGER-METROPOLITAN TRANSIT AUTHORITY</td>\n",
       "      <td>167411.18</td>\n",
       "      <td>0.0</td>\n",
       "      <td>400184.25</td>\n",
       "      <td>NaN</td>\n",
       "      <td>567595.43</td>\n",
       "      <td>567595.43</td>\n",
       "      <td>2011</td>\n",
       "      <td>NaN</td>\n",
       "      <td>San Francisco</td>\n",
       "      <td>NaN</td>\n",
       "    </tr>\n",
       "    <tr>\n",
       "      <th>1</th>\n",
       "      <td>2</td>\n",
       "      <td>GARY JIMENEZ</td>\n",
       "      <td>CAPTAIN III (POLICE DEPARTMENT)</td>\n",
       "      <td>155966.02</td>\n",
       "      <td>245131.88</td>\n",
       "      <td>137811.38</td>\n",
       "      <td>NaN</td>\n",
       "      <td>538909.28</td>\n",
       "      <td>538909.28</td>\n",
       "      <td>2011</td>\n",
       "      <td>NaN</td>\n",
       "      <td>San Francisco</td>\n",
       "      <td>NaN</td>\n",
       "    </tr>\n",
       "    <tr>\n",
       "      <th>2</th>\n",
       "      <td>3</td>\n",
       "      <td>ALBERT PARDINI</td>\n",
       "      <td>CAPTAIN III (POLICE DEPARTMENT)</td>\n",
       "      <td>212739.13</td>\n",
       "      <td>106088.18</td>\n",
       "      <td>16452.6</td>\n",
       "      <td>NaN</td>\n",
       "      <td>335279.91</td>\n",
       "      <td>335279.91</td>\n",
       "      <td>2011</td>\n",
       "      <td>NaN</td>\n",
       "      <td>San Francisco</td>\n",
       "      <td>NaN</td>\n",
       "    </tr>\n",
       "    <tr>\n",
       "      <th>3</th>\n",
       "      <td>4</td>\n",
       "      <td>CHRISTOPHER CHONG</td>\n",
       "      <td>WIRE ROPE CABLE MAINTENANCE MECHANIC</td>\n",
       "      <td>77916.0</td>\n",
       "      <td>56120.71</td>\n",
       "      <td>198306.9</td>\n",
       "      <td>NaN</td>\n",
       "      <td>332343.61</td>\n",
       "      <td>332343.61</td>\n",
       "      <td>2011</td>\n",
       "      <td>NaN</td>\n",
       "      <td>San Francisco</td>\n",
       "      <td>NaN</td>\n",
       "    </tr>\n",
       "    <tr>\n",
       "      <th>4</th>\n",
       "      <td>5</td>\n",
       "      <td>PATRICK GARDNER</td>\n",
       "      <td>DEPUTY CHIEF OF DEPARTMENT,(FIRE DEPARTMENT)</td>\n",
       "      <td>134401.6</td>\n",
       "      <td>9737.0</td>\n",
       "      <td>182234.59</td>\n",
       "      <td>NaN</td>\n",
       "      <td>326373.19</td>\n",
       "      <td>326373.19</td>\n",
       "      <td>2011</td>\n",
       "      <td>NaN</td>\n",
       "      <td>San Francisco</td>\n",
       "      <td>NaN</td>\n",
       "    </tr>\n",
       "    <tr>\n",
       "      <th>...</th>\n",
       "      <td>...</td>\n",
       "      <td>...</td>\n",
       "      <td>...</td>\n",
       "      <td>...</td>\n",
       "      <td>...</td>\n",
       "      <td>...</td>\n",
       "      <td>...</td>\n",
       "      <td>...</td>\n",
       "      <td>...</td>\n",
       "      <td>...</td>\n",
       "      <td>...</td>\n",
       "      <td>...</td>\n",
       "      <td>...</td>\n",
       "    </tr>\n",
       "    <tr>\n",
       "      <th>148649</th>\n",
       "      <td>148650</td>\n",
       "      <td>Roy I Tillery</td>\n",
       "      <td>Custodian</td>\n",
       "      <td>0.00</td>\n",
       "      <td>0.00</td>\n",
       "      <td>0.00</td>\n",
       "      <td>0.00</td>\n",
       "      <td>0.00</td>\n",
       "      <td>0.00</td>\n",
       "      <td>2014</td>\n",
       "      <td>NaN</td>\n",
       "      <td>San Francisco</td>\n",
       "      <td>PT</td>\n",
       "    </tr>\n",
       "    <tr>\n",
       "      <th>148650</th>\n",
       "      <td>148651</td>\n",
       "      <td>Not provided</td>\n",
       "      <td>Not provided</td>\n",
       "      <td>Not Provided</td>\n",
       "      <td>Not Provided</td>\n",
       "      <td>Not Provided</td>\n",
       "      <td>Not Provided</td>\n",
       "      <td>0.00</td>\n",
       "      <td>0.00</td>\n",
       "      <td>2014</td>\n",
       "      <td>NaN</td>\n",
       "      <td>San Francisco</td>\n",
       "      <td>NaN</td>\n",
       "    </tr>\n",
       "    <tr>\n",
       "      <th>148651</th>\n",
       "      <td>148652</td>\n",
       "      <td>Not provided</td>\n",
       "      <td>Not provided</td>\n",
       "      <td>Not Provided</td>\n",
       "      <td>Not Provided</td>\n",
       "      <td>Not Provided</td>\n",
       "      <td>Not Provided</td>\n",
       "      <td>0.00</td>\n",
       "      <td>0.00</td>\n",
       "      <td>2014</td>\n",
       "      <td>NaN</td>\n",
       "      <td>San Francisco</td>\n",
       "      <td>NaN</td>\n",
       "    </tr>\n",
       "    <tr>\n",
       "      <th>148652</th>\n",
       "      <td>148653</td>\n",
       "      <td>Not provided</td>\n",
       "      <td>Not provided</td>\n",
       "      <td>Not Provided</td>\n",
       "      <td>Not Provided</td>\n",
       "      <td>Not Provided</td>\n",
       "      <td>Not Provided</td>\n",
       "      <td>0.00</td>\n",
       "      <td>0.00</td>\n",
       "      <td>2014</td>\n",
       "      <td>NaN</td>\n",
       "      <td>San Francisco</td>\n",
       "      <td>NaN</td>\n",
       "    </tr>\n",
       "    <tr>\n",
       "      <th>148653</th>\n",
       "      <td>148654</td>\n",
       "      <td>Joe Lopez</td>\n",
       "      <td>Counselor, Log Cabin Ranch</td>\n",
       "      <td>0.00</td>\n",
       "      <td>0.00</td>\n",
       "      <td>-618.13</td>\n",
       "      <td>0.00</td>\n",
       "      <td>-618.13</td>\n",
       "      <td>-618.13</td>\n",
       "      <td>2014</td>\n",
       "      <td>NaN</td>\n",
       "      <td>San Francisco</td>\n",
       "      <td>PT</td>\n",
       "    </tr>\n",
       "  </tbody>\n",
       "</table>\n",
       "<p>148654 rows × 13 columns</p>\n",
       "</div>"
      ],
      "text/plain": [
       "            Id       EmployeeName  \\\n",
       "0            1     NATHANIEL FORD   \n",
       "1            2       GARY JIMENEZ   \n",
       "2            3     ALBERT PARDINI   \n",
       "3            4  CHRISTOPHER CHONG   \n",
       "4            5    PATRICK GARDNER   \n",
       "...        ...                ...   \n",
       "148649  148650      Roy I Tillery   \n",
       "148650  148651       Not provided   \n",
       "148651  148652       Not provided   \n",
       "148652  148653       Not provided   \n",
       "148653  148654          Joe Lopez   \n",
       "\n",
       "                                              JobTitle       BasePay  \\\n",
       "0       GENERAL MANAGER-METROPOLITAN TRANSIT AUTHORITY     167411.18   \n",
       "1                      CAPTAIN III (POLICE DEPARTMENT)     155966.02   \n",
       "2                      CAPTAIN III (POLICE DEPARTMENT)     212739.13   \n",
       "3                 WIRE ROPE CABLE MAINTENANCE MECHANIC       77916.0   \n",
       "4         DEPUTY CHIEF OF DEPARTMENT,(FIRE DEPARTMENT)      134401.6   \n",
       "...                                                ...           ...   \n",
       "148649                                       Custodian          0.00   \n",
       "148650                                    Not provided  Not Provided   \n",
       "148651                                    Not provided  Not Provided   \n",
       "148652                                    Not provided  Not Provided   \n",
       "148653                      Counselor, Log Cabin Ranch          0.00   \n",
       "\n",
       "         OvertimePay      OtherPay      Benefits   TotalPay  TotalPayBenefits  \\\n",
       "0                0.0     400184.25           NaN  567595.43         567595.43   \n",
       "1          245131.88     137811.38           NaN  538909.28         538909.28   \n",
       "2          106088.18       16452.6           NaN  335279.91         335279.91   \n",
       "3           56120.71      198306.9           NaN  332343.61         332343.61   \n",
       "4             9737.0     182234.59           NaN  326373.19         326373.19   \n",
       "...              ...           ...           ...        ...               ...   \n",
       "148649          0.00          0.00          0.00       0.00              0.00   \n",
       "148650  Not Provided  Not Provided  Not Provided       0.00              0.00   \n",
       "148651  Not Provided  Not Provided  Not Provided       0.00              0.00   \n",
       "148652  Not Provided  Not Provided  Not Provided       0.00              0.00   \n",
       "148653          0.00       -618.13          0.00    -618.13           -618.13   \n",
       "\n",
       "        Year  Notes         Agency Status  \n",
       "0       2011    NaN  San Francisco    NaN  \n",
       "1       2011    NaN  San Francisco    NaN  \n",
       "2       2011    NaN  San Francisco    NaN  \n",
       "3       2011    NaN  San Francisco    NaN  \n",
       "4       2011    NaN  San Francisco    NaN  \n",
       "...      ...    ...            ...    ...  \n",
       "148649  2014    NaN  San Francisco     PT  \n",
       "148650  2014    NaN  San Francisco    NaN  \n",
       "148651  2014    NaN  San Francisco    NaN  \n",
       "148652  2014    NaN  San Francisco    NaN  \n",
       "148653  2014    NaN  San Francisco     PT  \n",
       "\n",
       "[148654 rows x 13 columns]"
      ]
     },
     "execution_count": 71,
     "metadata": {},
     "output_type": "execute_result"
    }
   ],
   "source": [
    "df = pd.read_csv(\"M:\\Machine Leaning and Deep Learning Internship\\Pandas_Scikit_DrShyam_NITK\\Pandas_Scikit_DrShyam_NITK\\Salaries.csv\")\n",
    "df"
   ]
  },
  {
   "cell_type": "markdown",
   "id": "97548987-8936-4164-9929-5ec20e911711",
   "metadata": {},
   "source": [
    "#Assignment Questions\n",
    "\n",
    "1. Display Top 10 Rows of The Dataset\n",
    "2. Check Last 10 Rows of The Dataset\n",
    "3. Find Shape of Our Dataset (Number of Rows And Number of Columns)\n",
    "4. Getting Information About Our Dataset Like Total Number Rows, Total Number of Columns, Datatypes of Each Column And Memory Requirement\n",
    "5. Check Null Values In The Dataset\n",
    "6. Drop ID, Notes, Agency, and Status Columns\n",
    "7. Get Overall Statistics About The DataFrame\n",
    "8. Find Occurrence of The Employee Names (Top 5)\n",
    "9. Find The Number of Unique Job Titles\n",
    "10. Total Number of Job Titles Contain Captain\n",
    "11. Display All the Employee Names From Fire Department\n",
    "12. Find Minimum, Maximum, and Average BasePay\n",
    "13. Replace 'Not Provided' in EmployeeName' Column to NaN\n",
    "14. Drop The Rows Having 5 Missing Values\n",
    "15. Find Job Title of ALBERT PARDINI\n",
    "16. How Much ALBERT PARDINI Make (Include Benefits)?\n",
    "17. Display Name of The Person Having The Highest BasePay\n",
    "18. Find Average BasePay of All Employee Per Year\n",
    "19. Find Average BasePay of All Employee Per JobTitle\n",
    "20. Find Average BasePay of Employee Having Job Title ACCOUNTANT\n",
    "21. Find Top 5 Most Common Jobs\n"
   
